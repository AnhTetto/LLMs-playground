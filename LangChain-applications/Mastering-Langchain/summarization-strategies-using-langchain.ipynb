{
 "cells": [
  {
   "cell_type": "code",
   "execution_count": 1,
   "id": "051a4512",
   "metadata": {
    "_cell_guid": "b1076dfc-b9ad-4769-8c92-a6c4dae69d19",
    "_uuid": "8f2839f25d086af736a60e9eeb907d3b93b6e0e5",
    "execution": {
     "iopub.execute_input": "2023-12-04T10:11:56.920202Z",
     "iopub.status.busy": "2023-12-04T10:11:56.919419Z",
     "iopub.status.idle": "2023-12-04T10:13:13.360732Z",
     "shell.execute_reply": "2023-12-04T10:13:13.359637Z"
    },
    "papermill": {
     "duration": 76.457419,
     "end_time": "2023-12-04T10:13:13.363281",
     "exception": false,
     "start_time": "2023-12-04T10:11:56.905862",
     "status": "completed"
    },
    "tags": []
   },
   "outputs": [],
   "source": [
    "!pip install -qqq langchain accelerate bitsandbytes\n",
    "!pip install -qqq transformers==4.33.2\n",
    "!pip install -qqq optimum==1.13.1\n",
    "!pip install -qqq auto-gptq==0.4.2 --extra-index-url https://huggingface.github.io/autogptq-index/whl/cu118/ --progress-bar off"
   ]
  },
  {
   "cell_type": "code",
   "execution_count": 2,
   "id": "921f7916",
   "metadata": {
    "execution": {
     "iopub.execute_input": "2023-12-04T10:13:13.388729Z",
     "iopub.status.busy": "2023-12-04T10:13:13.387862Z",
     "iopub.status.idle": "2023-12-04T10:13:33.068789Z",
     "shell.execute_reply": "2023-12-04T10:13:33.067690Z"
    },
    "papermill": {
     "duration": 19.695901,
     "end_time": "2023-12-04T10:13:33.071010",
     "exception": false,
     "start_time": "2023-12-04T10:13:13.375109",
     "status": "completed"
    },
    "tags": []
   },
   "outputs": [
    {
     "name": "stderr",
     "output_type": "stream",
     "text": [
      "/opt/conda/lib/python3.10/site-packages/scipy/__init__.py:146: UserWarning: A NumPy version >=1.16.5 and <1.23.0 is required for this version of SciPy (detected version 1.24.3\n",
      "  warnings.warn(f\"A NumPy version >={np_minversion} and <{np_maxversion}\"\n"
     ]
    },
    {
     "name": "stdout",
     "output_type": "stream",
     "text": [
      "cuda\n"
     ]
    }
   ],
   "source": [
    "import torch\n",
    "from transformers import AutoModelForCausalLM, AutoTokenizer, pipeline\n",
    "import accelerate\n",
    "from langchain import HuggingFacePipeline\n",
    "\n",
    "from langchain.document_loaders import UnstructuredHTMLLoader, PyPDFLoader, DirectoryLoader\n",
    "\n",
    "from langchain.document_loaders.csv_loader import CSVLoader\n",
    "from langchain.text_splitter import CharacterTextSplitter, RecursiveCharacterTextSplitter\n",
    "from langchain.chains.summarize import load_summarize_chain\n",
    "from langchain.prompts import PromptTemplate\n",
    "\n",
    "import warnings\n",
    "warnings.filterwarnings(\"ignore\")\n",
    "\n",
    "DEVICE = torch.device(\"cuda\" if torch.cuda.is_available() else \"cpu\")\n",
    "print(DEVICE)"
   ]
  },
  {
   "cell_type": "markdown",
   "id": "b49c254c",
   "metadata": {
    "papermill": {
     "duration": 0.011096,
     "end_time": "2023-12-04T10:13:33.093565",
     "exception": false,
     "start_time": "2023-12-04T10:13:33.082469",
     "status": "completed"
    },
    "tags": []
   },
   "source": [
    "# LLM"
   ]
  },
  {
   "cell_type": "code",
   "execution_count": 3,
   "id": "1fd6a8c0",
   "metadata": {
    "execution": {
     "iopub.execute_input": "2023-12-04T10:13:33.118018Z",
     "iopub.status.busy": "2023-12-04T10:13:33.117381Z",
     "iopub.status.idle": "2023-12-04T10:16:53.853901Z",
     "shell.execute_reply": "2023-12-04T10:16:53.853075Z"
    },
    "papermill": {
     "duration": 200.751169,
     "end_time": "2023-12-04T10:16:53.856248",
     "exception": false,
     "start_time": "2023-12-04T10:13:33.105079",
     "status": "completed"
    },
    "tags": []
   },
   "outputs": [
    {
     "data": {
      "application/vnd.jupyter.widget-view+json": {
       "model_id": "a3574b5cb73e4309b8dfdebd508e06a6",
       "version_major": 2,
       "version_minor": 0
      },
      "text/plain": [
       "Downloading config.json:   0%|          | 0.00/789 [00:00<?, ?B/s]"
      ]
     },
     "metadata": {},
     "output_type": "display_data"
    },
    {
     "data": {
      "application/vnd.jupyter.widget-view+json": {
       "model_id": "041b22121aab4ee0b9495e605cd7238e",
       "version_major": 2,
       "version_minor": 0
      },
      "text/plain": [
       "Downloading model.safetensors:   0%|          | 0.00/3.90G [00:00<?, ?B/s]"
      ]
     },
     "metadata": {},
     "output_type": "display_data"
    },
    {
     "data": {
      "application/vnd.jupyter.widget-view+json": {
       "model_id": "7128117cc8564c57b23e799157bc9619",
       "version_major": 2,
       "version_minor": 0
      },
      "text/plain": [
       "Downloading generation_config.json:   0%|          | 0.00/137 [00:00<?, ?B/s]"
      ]
     },
     "metadata": {},
     "output_type": "display_data"
    },
    {
     "data": {
      "application/vnd.jupyter.widget-view+json": {
       "model_id": "36e7464794a44e1fb52261f63e4ab7c8",
       "version_major": 2,
       "version_minor": 0
      },
      "text/plain": [
       "Downloading tokenizer_config.json:   0%|          | 0.00/727 [00:00<?, ?B/s]"
      ]
     },
     "metadata": {},
     "output_type": "display_data"
    },
    {
     "data": {
      "application/vnd.jupyter.widget-view+json": {
       "model_id": "1fe691f2e5c04ccd8835c22d489856d0",
       "version_major": 2,
       "version_minor": 0
      },
      "text/plain": [
       "Downloading tokenizer.model:   0%|          | 0.00/500k [00:00<?, ?B/s]"
      ]
     },
     "metadata": {},
     "output_type": "display_data"
    },
    {
     "data": {
      "application/vnd.jupyter.widget-view+json": {
       "model_id": "25da85d66a014f8f90e4d2c706ae600d",
       "version_major": 2,
       "version_minor": 0
      },
      "text/plain": [
       "Downloading tokenizer.json:   0%|          | 0.00/1.84M [00:00<?, ?B/s]"
      ]
     },
     "metadata": {},
     "output_type": "display_data"
    },
    {
     "data": {
      "application/vnd.jupyter.widget-view+json": {
       "model_id": "d2abad12c4b54316bc1c97866a77be42",
       "version_major": 2,
       "version_minor": 0
      },
      "text/plain": [
       "Downloading (…)cial_tokens_map.json:   0%|          | 0.00/411 [00:00<?, ?B/s]"
      ]
     },
     "metadata": {},
     "output_type": "display_data"
    }
   ],
   "source": [
    "model_name = \"TheBloke/Llama-2-7b-Chat-GPTQ\"\n",
    "\n",
    "model = AutoModelForCausalLM.from_pretrained(model_name,\n",
    "                                             torch_dtype=torch.float16,\n",
    "                                             device_map=\"auto\",\n",
    "                                             trust_remote_code=True)\n",
    "\n",
    "tokenizer = AutoTokenizer.from_pretrained(model_name, use_fast=True)"
   ]
  },
  {
   "cell_type": "code",
   "execution_count": 4,
   "id": "a06d2230",
   "metadata": {
    "execution": {
     "iopub.execute_input": "2023-12-04T10:16:53.883984Z",
     "iopub.status.busy": "2023-12-04T10:16:53.883623Z",
     "iopub.status.idle": "2023-12-04T10:16:53.890199Z",
     "shell.execute_reply": "2023-12-04T10:16:53.889426Z"
    },
    "papermill": {
     "duration": 0.022614,
     "end_time": "2023-12-04T10:16:53.892117",
     "exception": false,
     "start_time": "2023-12-04T10:16:53.869503",
     "status": "completed"
    },
    "tags": []
   },
   "outputs": [],
   "source": [
    "text_pipeline = pipeline(\n",
    "    \"text-generation\",\n",
    "    model=model,\n",
    "    tokenizer=tokenizer,\n",
    "    return_full_text=True,\n",
    "    max_new_tokens = 1024,\n",
    "    top_p = 0.95,\n",
    "    do_sample = True,\n",
    "    repetition_penalty = 1.1,\n",
    ")\n",
    "\n",
    "llm = HuggingFacePipeline(pipeline=text_pipeline, model_kwargs={\"temperature\": 0})"
   ]
  },
  {
   "cell_type": "markdown",
   "id": "327897eb",
   "metadata": {
    "papermill": {
     "duration": 0.01228,
     "end_time": "2023-12-04T10:16:53.917215",
     "exception": false,
     "start_time": "2023-12-04T10:16:53.904935",
     "status": "completed"
    },
    "tags": []
   },
   "source": [
    "# Loading documents"
   ]
  },
  {
   "cell_type": "code",
   "execution_count": 5,
   "id": "2fc3ab88",
   "metadata": {
    "execution": {
     "iopub.execute_input": "2023-12-04T10:16:53.944095Z",
     "iopub.status.busy": "2023-12-04T10:16:53.943728Z",
     "iopub.status.idle": "2023-12-04T10:16:54.953133Z",
     "shell.execute_reply": "2023-12-04T10:16:54.952152Z"
    },
    "papermill": {
     "duration": 1.025703,
     "end_time": "2023-12-04T10:16:54.955527",
     "exception": false,
     "start_time": "2023-12-04T10:16:53.929824",
     "status": "completed"
    },
    "tags": []
   },
   "outputs": [
    {
     "name": "stdout",
     "output_type": "stream",
     "text": [
      " Autoencoders.html  'Imbalanced Classification with Python.pdf'   cities.csv\r\n"
     ]
    }
   ],
   "source": [
    "!ls ../input/mixed-dataset"
   ]
  },
  {
   "cell_type": "markdown",
   "id": "7ba930a5",
   "metadata": {
    "papermill": {
     "duration": 0.012434,
     "end_time": "2023-12-04T10:16:54.980907",
     "exception": false,
     "start_time": "2023-12-04T10:16:54.968473",
     "status": "completed"
    },
    "tags": []
   },
   "source": [
    "## CSV"
   ]
  },
  {
   "cell_type": "code",
   "execution_count": 6,
   "id": "87b51e40",
   "metadata": {
    "execution": {
     "iopub.execute_input": "2023-12-04T10:16:55.061827Z",
     "iopub.status.busy": "2023-12-04T10:16:55.061033Z",
     "iopub.status.idle": "2023-12-04T10:16:55.105020Z",
     "shell.execute_reply": "2023-12-04T10:16:55.104082Z"
    },
    "papermill": {
     "duration": 0.113453,
     "end_time": "2023-12-04T10:16:55.107175",
     "exception": false,
     "start_time": "2023-12-04T10:16:54.993722",
     "status": "completed"
    },
    "tags": []
   },
   "outputs": [],
   "source": [
    "file_path =\"../input/mixed-dataset/cities.csv\"\n",
    "\n",
    "csv_loader = CSVLoader(file_path=file_path)\n",
    "cities_data = csv_loader.load()"
   ]
  },
  {
   "cell_type": "code",
   "execution_count": 7,
   "id": "9d378b93",
   "metadata": {
    "execution": {
     "iopub.execute_input": "2023-12-04T10:16:55.133828Z",
     "iopub.status.busy": "2023-12-04T10:16:55.133507Z",
     "iopub.status.idle": "2023-12-04T10:16:55.140702Z",
     "shell.execute_reply": "2023-12-04T10:16:55.139822Z"
    },
    "papermill": {
     "duration": 0.022628,
     "end_time": "2023-12-04T10:16:55.142550",
     "exception": false,
     "start_time": "2023-12-04T10:16:55.119922",
     "status": "completed"
    },
    "tags": []
   },
   "outputs": [
    {
     "data": {
      "text/plain": [
       "Document(page_content='station_id: 41515\\ncity_name: Asadabad\\ncountry: Afghanistan\\nstate: Kunar\\niso2: AF\\niso3: AFG\\nlatitude: 34.8660000397\\nlongitude: 71.1500045859', metadata={'source': '../input/mixed-dataset/cities.csv', 'row': 0})"
      ]
     },
     "execution_count": 7,
     "metadata": {},
     "output_type": "execute_result"
    }
   ],
   "source": [
    "cities_data[0]"
   ]
  },
  {
   "cell_type": "code",
   "execution_count": 8,
   "id": "8c144b4c",
   "metadata": {
    "execution": {
     "iopub.execute_input": "2023-12-04T10:16:55.169883Z",
     "iopub.status.busy": "2023-12-04T10:16:55.168913Z",
     "iopub.status.idle": "2023-12-04T10:16:55.208727Z",
     "shell.execute_reply": "2023-12-04T10:16:55.207686Z"
    },
    "papermill": {
     "duration": 0.055666,
     "end_time": "2023-12-04T10:16:55.210924",
     "exception": false,
     "start_time": "2023-12-04T10:16:55.155258",
     "status": "completed"
    },
    "tags": []
   },
   "outputs": [
    {
     "data": {
      "text/html": [
       "<div>\n",
       "<style scoped>\n",
       "    .dataframe tbody tr th:only-of-type {\n",
       "        vertical-align: middle;\n",
       "    }\n",
       "\n",
       "    .dataframe tbody tr th {\n",
       "        vertical-align: top;\n",
       "    }\n",
       "\n",
       "    .dataframe thead th {\n",
       "        text-align: right;\n",
       "    }\n",
       "</style>\n",
       "<table border=\"1\" class=\"dataframe\">\n",
       "  <thead>\n",
       "    <tr style=\"text-align: right;\">\n",
       "      <th></th>\n",
       "      <th>station_id</th>\n",
       "      <th>city_name</th>\n",
       "      <th>country</th>\n",
       "      <th>state</th>\n",
       "      <th>iso2</th>\n",
       "      <th>iso3</th>\n",
       "      <th>latitude</th>\n",
       "      <th>longitude</th>\n",
       "    </tr>\n",
       "  </thead>\n",
       "  <tbody>\n",
       "    <tr>\n",
       "      <th>0</th>\n",
       "      <td>41515</td>\n",
       "      <td>Asadabad</td>\n",
       "      <td>Afghanistan</td>\n",
       "      <td>Kunar</td>\n",
       "      <td>AF</td>\n",
       "      <td>AFG</td>\n",
       "      <td>34.866000</td>\n",
       "      <td>71.150005</td>\n",
       "    </tr>\n",
       "    <tr>\n",
       "      <th>1</th>\n",
       "      <td>38954</td>\n",
       "      <td>Fayzabad</td>\n",
       "      <td>Afghanistan</td>\n",
       "      <td>Badakhshan</td>\n",
       "      <td>AF</td>\n",
       "      <td>AFG</td>\n",
       "      <td>37.129761</td>\n",
       "      <td>70.579247</td>\n",
       "    </tr>\n",
       "    <tr>\n",
       "      <th>2</th>\n",
       "      <td>41560</td>\n",
       "      <td>Jalalabad</td>\n",
       "      <td>Afghanistan</td>\n",
       "      <td>Nangarhar</td>\n",
       "      <td>AF</td>\n",
       "      <td>AFG</td>\n",
       "      <td>34.441527</td>\n",
       "      <td>70.436103</td>\n",
       "    </tr>\n",
       "    <tr>\n",
       "      <th>3</th>\n",
       "      <td>38947</td>\n",
       "      <td>Kunduz</td>\n",
       "      <td>Afghanistan</td>\n",
       "      <td>Kunduz</td>\n",
       "      <td>AF</td>\n",
       "      <td>AFG</td>\n",
       "      <td>36.727951</td>\n",
       "      <td>68.872530</td>\n",
       "    </tr>\n",
       "    <tr>\n",
       "      <th>4</th>\n",
       "      <td>38987</td>\n",
       "      <td>Qala i Naw</td>\n",
       "      <td>Afghanistan</td>\n",
       "      <td>Badghis</td>\n",
       "      <td>AF</td>\n",
       "      <td>AFG</td>\n",
       "      <td>34.983000</td>\n",
       "      <td>63.133300</td>\n",
       "    </tr>\n",
       "    <tr>\n",
       "      <th>...</th>\n",
       "      <td>...</td>\n",
       "      <td>...</td>\n",
       "      <td>...</td>\n",
       "      <td>...</td>\n",
       "      <td>...</td>\n",
       "      <td>...</td>\n",
       "      <td>...</td>\n",
       "      <td>...</td>\n",
       "    </tr>\n",
       "    <tr>\n",
       "      <th>1240</th>\n",
       "      <td>67475</td>\n",
       "      <td>Kasama</td>\n",
       "      <td>Zambia</td>\n",
       "      <td>Northern</td>\n",
       "      <td>ZM</td>\n",
       "      <td>ZMB</td>\n",
       "      <td>-10.199598</td>\n",
       "      <td>31.179947</td>\n",
       "    </tr>\n",
       "    <tr>\n",
       "      <th>1241</th>\n",
       "      <td>68030</td>\n",
       "      <td>Livingstone</td>\n",
       "      <td>Zambia</td>\n",
       "      <td>Southern</td>\n",
       "      <td>ZM</td>\n",
       "      <td>ZMB</td>\n",
       "      <td>-17.860009</td>\n",
       "      <td>25.860013</td>\n",
       "    </tr>\n",
       "    <tr>\n",
       "      <th>1242</th>\n",
       "      <td>67633</td>\n",
       "      <td>Mongu</td>\n",
       "      <td>Zambia</td>\n",
       "      <td>Western</td>\n",
       "      <td>ZM</td>\n",
       "      <td>ZMB</td>\n",
       "      <td>-15.279598</td>\n",
       "      <td>23.120025</td>\n",
       "    </tr>\n",
       "    <tr>\n",
       "      <th>1243</th>\n",
       "      <td>67775</td>\n",
       "      <td>Harare</td>\n",
       "      <td>Zimbabwe</td>\n",
       "      <td>Harare</td>\n",
       "      <td>ZW</td>\n",
       "      <td>ZWE</td>\n",
       "      <td>-17.817790</td>\n",
       "      <td>31.044709</td>\n",
       "    </tr>\n",
       "    <tr>\n",
       "      <th>1244</th>\n",
       "      <td>67975</td>\n",
       "      <td>Masvingo</td>\n",
       "      <td>Zimbabwe</td>\n",
       "      <td>Masvingo</td>\n",
       "      <td>ZW</td>\n",
       "      <td>ZWE</td>\n",
       "      <td>-20.059617</td>\n",
       "      <td>30.820020</td>\n",
       "    </tr>\n",
       "  </tbody>\n",
       "</table>\n",
       "<p>1245 rows × 8 columns</p>\n",
       "</div>"
      ],
      "text/plain": [
       "     station_id    city_name      country       state iso2 iso3   latitude  \\\n",
       "0         41515     Asadabad  Afghanistan       Kunar   AF  AFG  34.866000   \n",
       "1         38954     Fayzabad  Afghanistan  Badakhshan   AF  AFG  37.129761   \n",
       "2         41560    Jalalabad  Afghanistan   Nangarhar   AF  AFG  34.441527   \n",
       "3         38947       Kunduz  Afghanistan      Kunduz   AF  AFG  36.727951   \n",
       "4         38987   Qala i Naw  Afghanistan     Badghis   AF  AFG  34.983000   \n",
       "...         ...          ...          ...         ...  ...  ...        ...   \n",
       "1240      67475       Kasama       Zambia    Northern   ZM  ZMB -10.199598   \n",
       "1241      68030  Livingstone       Zambia    Southern   ZM  ZMB -17.860009   \n",
       "1242      67633        Mongu       Zambia     Western   ZM  ZMB -15.279598   \n",
       "1243      67775       Harare     Zimbabwe      Harare   ZW  ZWE -17.817790   \n",
       "1244      67975     Masvingo     Zimbabwe    Masvingo   ZW  ZWE -20.059617   \n",
       "\n",
       "      longitude  \n",
       "0     71.150005  \n",
       "1     70.579247  \n",
       "2     70.436103  \n",
       "3     68.872530  \n",
       "4     63.133300  \n",
       "...         ...  \n",
       "1240  31.179947  \n",
       "1241  25.860013  \n",
       "1242  23.120025  \n",
       "1243  31.044709  \n",
       "1244  30.820020  \n",
       "\n",
       "[1245 rows x 8 columns]"
      ]
     },
     "execution_count": 8,
     "metadata": {},
     "output_type": "execute_result"
    }
   ],
   "source": [
    "import pandas as pd\n",
    "df = pd.read_csv(file_path)\n",
    "df"
   ]
  },
  {
   "cell_type": "markdown",
   "id": "ee4bf6ba",
   "metadata": {
    "papermill": {
     "duration": 0.012744,
     "end_time": "2023-12-04T10:16:55.237018",
     "exception": false,
     "start_time": "2023-12-04T10:16:55.224274",
     "status": "completed"
    },
    "tags": []
   },
   "source": [
    "## PDF"
   ]
  },
  {
   "cell_type": "code",
   "execution_count": 9,
   "id": "ce4c0af2",
   "metadata": {
    "execution": {
     "iopub.execute_input": "2023-12-04T10:16:55.264213Z",
     "iopub.status.busy": "2023-12-04T10:16:55.263879Z",
     "iopub.status.idle": "2023-12-04T10:17:11.035510Z",
     "shell.execute_reply": "2023-12-04T10:17:11.034710Z"
    },
    "papermill": {
     "duration": 15.7878,
     "end_time": "2023-12-04T10:17:11.037789",
     "exception": false,
     "start_time": "2023-12-04T10:16:55.249989",
     "status": "completed"
    },
    "tags": []
   },
   "outputs": [],
   "source": [
    "file_path =\"../input/mixed-dataset/Imbalanced Classification with Python.pdf\"\n",
    "\n",
    "pdf_loader = PyPDFLoader(file_path=file_path)\n",
    "pdf_data = pdf_loader.load_and_split()"
   ]
  },
  {
   "cell_type": "code",
   "execution_count": 10,
   "id": "7536d603",
   "metadata": {
    "execution": {
     "iopub.execute_input": "2023-12-04T10:17:11.066080Z",
     "iopub.status.busy": "2023-12-04T10:17:11.065280Z",
     "iopub.status.idle": "2023-12-04T10:17:11.071172Z",
     "shell.execute_reply": "2023-12-04T10:17:11.070347Z"
    },
    "papermill": {
     "duration": 0.02182,
     "end_time": "2023-12-04T10:17:11.073022",
     "exception": false,
     "start_time": "2023-12-04T10:17:11.051202",
     "status": "completed"
    },
    "tags": []
   },
   "outputs": [
    {
     "data": {
      "text/plain": [
       "Document(page_content='Imbalanced Classiﬁcation \\nwith Python\\nChoose Better Metrics, Balance \\nSkewed Classes, and Apply \\nCost-Sensitive Learning\\nJason Brownlee', metadata={'source': '../input/mixed-dataset/Imbalanced Classification with Python.pdf', 'page': 0})"
      ]
     },
     "execution_count": 10,
     "metadata": {},
     "output_type": "execute_result"
    }
   ],
   "source": [
    "pdf_data[0]"
   ]
  },
  {
   "cell_type": "markdown",
   "id": "d5143635",
   "metadata": {
    "papermill": {
     "duration": 0.013071,
     "end_time": "2023-12-04T10:17:11.099263",
     "exception": false,
     "start_time": "2023-12-04T10:17:11.086192",
     "status": "completed"
    },
    "tags": []
   },
   "source": [
    "## Loading directories of Mixed Data"
   ]
  },
  {
   "cell_type": "code",
   "execution_count": 11,
   "id": "f92bbb18",
   "metadata": {
    "execution": {
     "iopub.execute_input": "2023-12-04T10:17:11.127335Z",
     "iopub.status.busy": "2023-12-04T10:17:11.126750Z",
     "iopub.status.idle": "2023-12-04T10:17:11.138691Z",
     "shell.execute_reply": "2023-12-04T10:17:11.137806Z"
    },
    "papermill": {
     "duration": 0.028393,
     "end_time": "2023-12-04T10:17:11.140734",
     "exception": false,
     "start_time": "2023-12-04T10:17:11.112341",
     "status": "completed"
    },
    "tags": []
   },
   "outputs": [
    {
     "name": "stderr",
     "output_type": "stream",
     "text": [
      "100%|██████████| 3/3 [00:00<00:00, 1131.46it/s]\n"
     ]
    }
   ],
   "source": [
    "folder_path = '../input/mixed-dataset/'\n",
    "\n",
    "mixed_loader = DirectoryLoader(\n",
    "    path=folder_path,\n",
    "    use_multithreading=True,\n",
    "    show_progress=True\n",
    ")\n",
    "\n",
    "mixed_data = mixed_loader.load_and_split()"
   ]
  },
  {
   "cell_type": "markdown",
   "id": "acd4afee",
   "metadata": {
    "papermill": {
     "duration": 0.013399,
     "end_time": "2023-12-04T10:17:11.167485",
     "exception": false,
     "start_time": "2023-12-04T10:17:11.154086",
     "status": "completed"
    },
    "tags": []
   },
   "source": [
    "# Text Splitter\n",
    "\n",
    "We can customize the way we partition the data-\n",
    "\n",
    "We will use character text splitter that splits on twice the return (\"\\n\\n\") character, whereas the recursive character text splitter split on a list of elements [\"\\n\\n\", \"\\n\", \" \", \"\"]. This is to make sure that each chunk is of the same size.\n",
    "\n",
    "By default, when you run the load and split function, it's using actually the recursive character text splitter."
   ]
  },
  {
   "cell_type": "code",
   "execution_count": 12,
   "id": "3ffff14e",
   "metadata": {
    "execution": {
     "iopub.execute_input": "2023-12-04T10:17:11.195925Z",
     "iopub.status.busy": "2023-12-04T10:17:11.195578Z",
     "iopub.status.idle": "2023-12-04T10:17:42.093236Z",
     "shell.execute_reply": "2023-12-04T10:17:42.092216Z"
    },
    "papermill": {
     "duration": 30.914849,
     "end_time": "2023-12-04T10:17:42.095733",
     "exception": false,
     "start_time": "2023-12-04T10:17:11.180884",
     "status": "completed"
    },
    "tags": []
   },
   "outputs": [],
   "source": [
    "# split on \"\\n\\n\"\n",
    "splitter1 = CharacterTextSplitter(\n",
    "    chunk_size=1000,\n",
    "    chunk_overlap=0,\n",
    ")\n",
    "\n",
    "# split [\"\\n\\n\", \"\\n\", \" \", \"\"]\n",
    "splitter2 = RecursiveCharacterTextSplitter(\n",
    "    chunk_size=1000,\n",
    "    chunk_overlap=0,\n",
    ")\n",
    "\n",
    "\n",
    "pdf_data1 = pdf_loader.load_and_split(text_splitter=splitter1)\n",
    "pdf_data2 = pdf_loader.load_and_split(text_splitter=splitter2)"
   ]
  },
  {
   "cell_type": "code",
   "execution_count": 13,
   "id": "5bd39fd5",
   "metadata": {
    "execution": {
     "iopub.execute_input": "2023-12-04T10:17:42.124734Z",
     "iopub.status.busy": "2023-12-04T10:17:42.124369Z",
     "iopub.status.idle": "2023-12-04T10:17:42.130367Z",
     "shell.execute_reply": "2023-12-04T10:17:42.129501Z"
    },
    "papermill": {
     "duration": 0.022514,
     "end_time": "2023-12-04T10:17:42.132144",
     "exception": false,
     "start_time": "2023-12-04T10:17:42.109630",
     "status": "completed"
    },
    "tags": []
   },
   "outputs": [
    {
     "data": {
      "text/plain": [
       "3206"
      ]
     },
     "execution_count": 13,
     "metadata": {},
     "output_type": "execute_result"
    }
   ],
   "source": [
    "len(pdf_data1[4].page_content)"
   ]
  },
  {
   "cell_type": "code",
   "execution_count": 14,
   "id": "be2f8f89",
   "metadata": {
    "execution": {
     "iopub.execute_input": "2023-12-04T10:17:42.160718Z",
     "iopub.status.busy": "2023-12-04T10:17:42.160008Z",
     "iopub.status.idle": "2023-12-04T10:17:42.166000Z",
     "shell.execute_reply": "2023-12-04T10:17:42.165139Z"
    },
    "papermill": {
     "duration": 0.022235,
     "end_time": "2023-12-04T10:17:42.167834",
     "exception": false,
     "start_time": "2023-12-04T10:17:42.145599",
     "status": "completed"
    },
    "tags": []
   },
   "outputs": [
    {
     "data": {
      "text/plain": [
       "955"
      ]
     },
     "execution_count": 14,
     "metadata": {},
     "output_type": "execute_result"
    }
   ],
   "source": [
    "len(pdf_data2[4].page_content)"
   ]
  },
  {
   "cell_type": "code",
   "execution_count": 15,
   "id": "e5ea99f8",
   "metadata": {
    "execution": {
     "iopub.execute_input": "2023-12-04T10:17:42.196662Z",
     "iopub.status.busy": "2023-12-04T10:17:42.195976Z",
     "iopub.status.idle": "2023-12-04T10:17:42.207306Z",
     "shell.execute_reply": "2023-12-04T10:17:42.206408Z"
    },
    "papermill": {
     "duration": 0.027922,
     "end_time": "2023-12-04T10:17:42.209303",
     "exception": false,
     "start_time": "2023-12-04T10:17:42.181381",
     "status": "completed"
    },
    "tags": []
   },
   "outputs": [
    {
     "name": "stderr",
     "output_type": "stream",
     "text": [
      "100%|██████████| 3/3 [00:00<00:00, 1064.45it/s]\n"
     ]
    }
   ],
   "source": [
    "mixed_loader = DirectoryLoader(\n",
    "    path=folder_path,\n",
    "    use_multithreading=True,\n",
    "    show_progress=True\n",
    ")\n",
    "\n",
    "mixed_data = mixed_loader.load_and_split()"
   ]
  },
  {
   "cell_type": "markdown",
   "id": "2d3523e5",
   "metadata": {
    "papermill": {
     "duration": 0.014437,
     "end_time": "2023-12-04T10:17:42.238068",
     "exception": false,
     "start_time": "2023-12-04T10:17:42.223631",
     "status": "completed"
    },
    "tags": []
   },
   "source": [
    "# Summarizing"
   ]
  },
  {
   "cell_type": "markdown",
   "id": "c08761fe",
   "metadata": {
    "papermill": {
     "duration": 0.0143,
     "end_time": "2023-12-04T10:17:42.266957",
     "exception": false,
     "start_time": "2023-12-04T10:17:42.252657",
     "status": "completed"
    },
    "tags": []
   },
   "source": [
    "## The “Stuff” Chain\n",
    "\n",
    "With LangChain, it is not difficult to summarize text of any length. To summarize text with an LLM, there are a few strategies.\n",
    "\n",
    "If the whole text fits in the context window, then you can simply feed the raw data and get the result. LangChain refers to that strategy as the “stuff“ chain type."
   ]
  },
  {
   "cell_type": "code",
   "execution_count": 16,
   "id": "a830e5a8",
   "metadata": {
    "execution": {
     "iopub.execute_input": "2023-12-04T10:17:42.296882Z",
     "iopub.status.busy": "2023-12-04T10:17:42.296505Z",
     "iopub.status.idle": "2023-12-04T10:18:46.425681Z",
     "shell.execute_reply": "2023-12-04T10:18:46.424726Z"
    },
    "papermill": {
     "duration": 64.160068,
     "end_time": "2023-12-04T10:18:46.441252",
     "exception": false,
     "start_time": "2023-12-04T10:17:42.281184",
     "status": "completed"
    },
    "tags": []
   },
   "outputs": [
    {
     "data": {
      "text/plain": [
       "'\\nIn this article, Jason Brownlee discusses imbalanced classification in machine learning and how it can affect model performance. He emphasizes the importance of choosing better metrics, balancing skewed classes, and applying cost-sensitive learning to improve accuracy for both classes. The author provides code examples using Python and its scikit-learn library to demonstrate these techniques. By addressing these issues, the article helps readers achieve better results with their imbalanced datasets.'"
      ]
     },
     "execution_count": 16,
     "metadata": {},
     "output_type": "execute_result"
    }
   ],
   "source": [
    "chain = load_summarize_chain(\n",
    "    llm=llm,\n",
    "    chain_type='stuff'\n",
    ")\n",
    "\n",
    "chain.run(pdf_data1[:1])"
   ]
  },
  {
   "cell_type": "code",
   "execution_count": 17,
   "id": "9c7ecd0e",
   "metadata": {
    "execution": {
     "iopub.execute_input": "2023-12-04T10:18:46.471667Z",
     "iopub.status.busy": "2023-12-04T10:18:46.470771Z",
     "iopub.status.idle": "2023-12-04T10:19:59.621013Z",
     "shell.execute_reply": "2023-12-04T10:19:59.620126Z"
    },
    "papermill": {
     "duration": 73.181923,
     "end_time": "2023-12-04T10:19:59.637482",
     "exception": false,
     "start_time": "2023-12-04T10:18:46.455559",
     "status": "completed"
    },
    "tags": []
   },
   "outputs": [
    {
     "data": {
      "text/plain": [
       "'\\nThere are five station entries in the provided text. The stations are located in different provinces of Afghanistan, including Kunar, Badakhshan, Nangarhar, Kunduz, and Badghis. Each station entry includes the station ID, city name, country, state, and latitude and longitude coordinates. \"AF\" is used as the ISO 3166-1 alpha-2 code for Afghanistan, and \"AFG\" is used as the ISO 3166-1 alpha-3 code.\"'"
      ]
     },
     "execution_count": 17,
     "metadata": {},
     "output_type": "execute_result"
    }
   ],
   "source": [
    "chain.run(cities_data[:5])"
   ]
  },
  {
   "cell_type": "code",
   "execution_count": 18,
   "id": "9925829a",
   "metadata": {
    "execution": {
     "iopub.execute_input": "2023-12-04T10:19:59.668308Z",
     "iopub.status.busy": "2023-12-04T10:19:59.667512Z",
     "iopub.status.idle": "2023-12-04T10:19:59.673797Z",
     "shell.execute_reply": "2023-12-04T10:19:59.672904Z"
    },
    "papermill": {
     "duration": 0.023624,
     "end_time": "2023-12-04T10:19:59.675573",
     "exception": false,
     "start_time": "2023-12-04T10:19:59.651949",
     "status": "completed"
    },
    "tags": []
   },
   "outputs": [
    {
     "data": {
      "text/plain": [
       "[Document(page_content='station_id: 41515\\ncity_name: Asadabad\\ncountry: Afghanistan\\nstate: Kunar\\niso2: AF\\niso3: AFG\\nlatitude: 34.8660000397\\nlongitude: 71.1500045859', metadata={'source': '../input/mixed-dataset/cities.csv', 'row': 0}),\n",
       " Document(page_content='station_id: 38954\\ncity_name: Fayzabad\\ncountry: Afghanistan\\nstate: Badakhshan\\niso2: AF\\niso3: AFG\\nlatitude: 37.1297607616\\nlongitude: 70.5792471913', metadata={'source': '../input/mixed-dataset/cities.csv', 'row': 1}),\n",
       " Document(page_content='station_id: 41560\\ncity_name: Jalalabad\\ncountry: Afghanistan\\nstate: Nangarhar\\niso2: AF\\niso3: AFG\\nlatitude: 34.4415269155\\nlongitude: 70.4361034738', metadata={'source': '../input/mixed-dataset/cities.csv', 'row': 2}),\n",
       " Document(page_content='station_id: 38947\\ncity_name: Kunduz\\ncountry: Afghanistan\\nstate: Kunduz\\niso2: AF\\niso3: AFG\\nlatitude: 36.7279506623\\nlongitude: 68.8725296619', metadata={'source': '../input/mixed-dataset/cities.csv', 'row': 3}),\n",
       " Document(page_content='station_id: 38987\\ncity_name: Qala i Naw\\ncountry: Afghanistan\\nstate: Badghis\\niso2: AF\\niso3: AFG\\nlatitude: 34.983000131\\nlongitude: 63.1332996367', metadata={'source': '../input/mixed-dataset/cities.csv', 'row': 4})]"
      ]
     },
     "execution_count": 18,
     "metadata": {},
     "output_type": "execute_result"
    }
   ],
   "source": [
    "cities_data[:5]"
   ]
  },
  {
   "cell_type": "markdown",
   "id": "9e154929",
   "metadata": {
    "papermill": {
     "duration": 0.014408,
     "end_time": "2023-12-04T10:19:59.704126",
     "exception": false,
     "start_time": "2023-12-04T10:19:59.689718",
     "status": "completed"
    },
    "tags": []
   },
   "source": [
    "## Custom prompt"
   ]
  },
  {
   "cell_type": "code",
   "execution_count": 19,
   "id": "6364ae91",
   "metadata": {
    "execution": {
     "iopub.execute_input": "2023-12-04T10:19:59.734532Z",
     "iopub.status.busy": "2023-12-04T10:19:59.733964Z",
     "iopub.status.idle": "2023-12-04T10:19:59.738581Z",
     "shell.execute_reply": "2023-12-04T10:19:59.737778Z"
    },
    "papermill": {
     "duration": 0.022122,
     "end_time": "2023-12-04T10:19:59.740647",
     "exception": false,
     "start_time": "2023-12-04T10:19:59.718525",
     "status": "completed"
    },
    "tags": []
   },
   "outputs": [
    {
     "name": "stdout",
     "output_type": "stream",
     "text": [
      "Write a concise summary of the following:\n",
      "\n",
      "\n",
      "\"{text}\"\n",
      "\n",
      "\n",
      "CONCISE SUMMARY:\n"
     ]
    }
   ],
   "source": [
    "# lets check default prompt template\n",
    "print(chain.llm_chain.prompt.template)"
   ]
  },
  {
   "cell_type": "code",
   "execution_count": 20,
   "id": "39ce7cfd",
   "metadata": {
    "execution": {
     "iopub.execute_input": "2023-12-04T10:19:59.771046Z",
     "iopub.status.busy": "2023-12-04T10:19:59.770712Z",
     "iopub.status.idle": "2023-12-04T10:19:59.776108Z",
     "shell.execute_reply": "2023-12-04T10:19:59.775205Z"
    },
    "papermill": {
     "duration": 0.022629,
     "end_time": "2023-12-04T10:19:59.777961",
     "exception": false,
     "start_time": "2023-12-04T10:19:59.755332",
     "status": "completed"
    },
    "tags": []
   },
   "outputs": [],
   "source": [
    "template = \"\"\"\n",
    "Write a concise summary of the following in GERMAN:\n",
    "\n",
    "\"{text}\"\n",
    "\n",
    "CONCISE SUMMARY IN GERMAN:\n",
    "\"\"\"\n",
    "\n",
    "prompt = PromptTemplate.from_template(template)\n",
    "\n",
    "chain = load_summarize_chain(\n",
    "    llm=llm,\n",
    "    prompt=prompt   \n",
    ")"
   ]
  },
  {
   "cell_type": "code",
   "execution_count": 21,
   "id": "84d6d0a1",
   "metadata": {
    "execution": {
     "iopub.execute_input": "2023-12-04T10:19:59.808292Z",
     "iopub.status.busy": "2023-12-04T10:19:59.807985Z",
     "iopub.status.idle": "2023-12-04T10:21:18.811317Z",
     "shell.execute_reply": "2023-12-04T10:21:18.810367Z"
    },
    "papermill": {
     "duration": 79.034767,
     "end_time": "2023-12-04T10:21:18.827428",
     "exception": false,
     "start_time": "2023-12-04T10:19:59.792661",
     "status": "completed"
    },
    "tags": []
   },
   "outputs": [
    {
     "data": {
      "text/plain": [
       "'Asadabad ist eine Stadt in Afghanistan mit der Station-ID 41515. Die Stadt liegt im Bezirk Kunar und hat eine Breite von 34,866 Grad und eine Länge von 71,15 Grad.\\nFayzabad ist eine andere Stadt in Afghanistan mit der Station-ID 38954. Diese Stadt befindet sich im Bezirk Badakhshan und hat eine Breite von 37,1297 Grad und eine Länge von 70,5793 Grad.'"
      ]
     },
     "execution_count": 21,
     "metadata": {},
     "output_type": "execute_result"
    }
   ],
   "source": [
    "chain.run(cities_data[:2])"
   ]
  },
  {
   "cell_type": "code",
   "execution_count": 22,
   "id": "2adf4e5a",
   "metadata": {
    "execution": {
     "iopub.execute_input": "2023-12-04T10:21:18.858638Z",
     "iopub.status.busy": "2023-12-04T10:21:18.857827Z",
     "iopub.status.idle": "2023-12-04T10:21:18.863840Z",
     "shell.execute_reply": "2023-12-04T10:21:18.862994Z"
    },
    "papermill": {
     "duration": 0.023679,
     "end_time": "2023-12-04T10:21:18.865722",
     "exception": false,
     "start_time": "2023-12-04T10:21:18.842043",
     "status": "completed"
    },
    "tags": []
   },
   "outputs": [
    {
     "data": {
      "text/plain": [
       "[Document(page_content='station_id: 41515\\ncity_name: Asadabad\\ncountry: Afghanistan\\nstate: Kunar\\niso2: AF\\niso3: AFG\\nlatitude: 34.8660000397\\nlongitude: 71.1500045859', metadata={'source': '../input/mixed-dataset/cities.csv', 'row': 0}),\n",
       " Document(page_content='station_id: 38954\\ncity_name: Fayzabad\\ncountry: Afghanistan\\nstate: Badakhshan\\niso2: AF\\niso3: AFG\\nlatitude: 37.1297607616\\nlongitude: 70.5792471913', metadata={'source': '../input/mixed-dataset/cities.csv', 'row': 1})]"
      ]
     },
     "execution_count": 22,
     "metadata": {},
     "output_type": "execute_result"
    }
   ],
   "source": [
    "cities_data[:2]"
   ]
  },
  {
   "cell_type": "markdown",
   "id": "bfe7a8a2",
   "metadata": {
    "papermill": {
     "duration": 0.014352,
     "end_time": "2023-12-04T10:21:18.894625",
     "exception": false,
     "start_time": "2023-12-04T10:21:18.880273",
     "status": "completed"
    },
    "tags": []
   },
   "source": [
    "#### Unfortunately for the Stuff chain, it is going to break if the data is too large because the number of tokens sent to the LLM is larger than the context window."
   ]
  },
  {
   "cell_type": "markdown",
   "id": "03c5e1f7",
   "metadata": {
    "papermill": {
     "duration": 0.014402,
     "end_time": "2023-12-04T10:21:18.923521",
     "exception": false,
     "start_time": "2023-12-04T10:21:18.909119",
     "status": "completed"
    },
    "tags": []
   },
   "source": [
    "## The Map-Reduce Chain\n",
    "\n",
    "When we want to summarize a lot of data, we can use the Map-reduce strategy. We break down the data into multiple chunks, summarize each chunk, and summarize the concatenated summaries in a final \"combine\" step."
   ]
  },
  {
   "cell_type": "code",
   "execution_count": 23,
   "id": "6b6953ad",
   "metadata": {
    "execution": {
     "iopub.execute_input": "2023-12-04T10:21:18.954312Z",
     "iopub.status.busy": "2023-12-04T10:21:18.953944Z",
     "iopub.status.idle": "2023-12-04T10:21:18.958892Z",
     "shell.execute_reply": "2023-12-04T10:21:18.958063Z"
    },
    "papermill": {
     "duration": 0.022632,
     "end_time": "2023-12-04T10:21:18.960763",
     "exception": false,
     "start_time": "2023-12-04T10:21:18.938131",
     "status": "completed"
    },
    "tags": []
   },
   "outputs": [],
   "source": [
    "mr_chain = load_summarize_chain(\n",
    "    llm=llm,\n",
    "    chain_type='map_reduce'\n",
    ")"
   ]
  },
  {
   "cell_type": "code",
   "execution_count": 24,
   "id": "5f22c1a7",
   "metadata": {
    "execution": {
     "iopub.execute_input": "2023-12-04T10:21:18.992420Z",
     "iopub.status.busy": "2023-12-04T10:21:18.991822Z",
     "iopub.status.idle": "2023-12-04T10:25:24.451567Z",
     "shell.execute_reply": "2023-12-04T10:25:24.450523Z"
    },
    "papermill": {
     "duration": 245.492968,
     "end_time": "2023-12-04T10:25:24.469310",
     "exception": false,
     "start_time": "2023-12-04T10:21:18.976342",
     "status": "completed"
    },
    "tags": []
   },
   "outputs": [
    {
     "data": {
      "application/vnd.jupyter.widget-view+json": {
       "model_id": "faa65dcba0ff4ee29b1f96c3a487a19c",
       "version_major": 2,
       "version_minor": 0
      },
      "text/plain": [
       "Downloading vocab.json:   0%|          | 0.00/1.04M [00:00<?, ?B/s]"
      ]
     },
     "metadata": {},
     "output_type": "display_data"
    },
    {
     "data": {
      "application/vnd.jupyter.widget-view+json": {
       "model_id": "85d13af96ae140b4a35fd92ea9054312",
       "version_major": 2,
       "version_minor": 0
      },
      "text/plain": [
       "Downloading merges.txt:   0%|          | 0.00/456k [00:00<?, ?B/s]"
      ]
     },
     "metadata": {},
     "output_type": "display_data"
    },
    {
     "data": {
      "application/vnd.jupyter.widget-view+json": {
       "model_id": "f1288b4ba2b347a8b240030ec8f51715",
       "version_major": 2,
       "version_minor": 0
      },
      "text/plain": [
       "Downloading tokenizer.json:   0%|          | 0.00/1.36M [00:00<?, ?B/s]"
      ]
     },
     "metadata": {},
     "output_type": "display_data"
    },
    {
     "data": {
      "application/vnd.jupyter.widget-view+json": {
       "model_id": "e049a09db5794b7884c335dcf8e748f9",
       "version_major": 2,
       "version_minor": 0
      },
      "text/plain": [
       "Downloading config.json:   0%|          | 0.00/665 [00:00<?, ?B/s]"
      ]
     },
     "metadata": {},
     "output_type": "display_data"
    },
    {
     "data": {
      "text/plain": [
       "'\\nThis summary describes information about two locations in Afghanistan. Location 1 has a station ID of 38954, is located in Asadabad, Kunar, Afghanistan, and has latitude coordinates of 34.866° north and longitude coordinates of 71.15° east. Location 2 has a station ID of 41560, is located in Jalalabad, Nangarhar, Afghanistan, and has latitude coordinates of 34.4415° north and longitude coordinates of 70.4361° east.'"
      ]
     },
     "execution_count": 24,
     "metadata": {},
     "output_type": "execute_result"
    }
   ],
   "source": [
    "mr_chain.run(cities_data[:3])"
   ]
  },
  {
   "cell_type": "markdown",
   "id": "43c64dcc",
   "metadata": {
    "papermill": {
     "duration": 0.015434,
     "end_time": "2023-12-04T10:25:24.500511",
     "exception": false,
     "start_time": "2023-12-04T10:25:24.485077",
     "status": "completed"
    },
    "tags": []
   },
   "source": [
    "## Custom Prompts\n",
    "The Map-reduce chain has a prompt for the map step, and a prompt for the combine step.\n",
    "We can change the behavior of this chain by using custom prompts"
   ]
  },
  {
   "cell_type": "code",
   "execution_count": 25,
   "id": "19f9cf38",
   "metadata": {
    "execution": {
     "iopub.execute_input": "2023-12-04T10:25:24.534136Z",
     "iopub.status.busy": "2023-12-04T10:25:24.533237Z",
     "iopub.status.idle": "2023-12-04T10:25:24.538425Z",
     "shell.execute_reply": "2023-12-04T10:25:24.537559Z"
    },
    "papermill": {
     "duration": 0.024107,
     "end_time": "2023-12-04T10:25:24.540350",
     "exception": false,
     "start_time": "2023-12-04T10:25:24.516243",
     "status": "completed"
    },
    "tags": []
   },
   "outputs": [
    {
     "name": "stdout",
     "output_type": "stream",
     "text": [
      "Write a concise summary of the following:\n",
      "\n",
      "\n",
      "\"{text}\"\n",
      "\n",
      "\n",
      "CONCISE SUMMARY:\n"
     ]
    }
   ],
   "source": [
    "print(mr_chain.llm_chain.prompt.template)"
   ]
  },
  {
   "cell_type": "code",
   "execution_count": 26,
   "id": "1db7f07b",
   "metadata": {
    "execution": {
     "iopub.execute_input": "2023-12-04T10:25:24.573629Z",
     "iopub.status.busy": "2023-12-04T10:25:24.572812Z",
     "iopub.status.idle": "2023-12-04T10:25:24.578487Z",
     "shell.execute_reply": "2023-12-04T10:25:24.577671Z"
    },
    "papermill": {
     "duration": 0.024362,
     "end_time": "2023-12-04T10:25:24.580549",
     "exception": false,
     "start_time": "2023-12-04T10:25:24.556187",
     "status": "completed"
    },
    "tags": []
   },
   "outputs": [
    {
     "name": "stdout",
     "output_type": "stream",
     "text": [
      "Write a concise summary of the following:\n",
      "\n",
      "\n",
      "\"{text}\"\n",
      "\n",
      "\n",
      "CONCISE SUMMARY:\n"
     ]
    }
   ],
   "source": [
    "print(mr_chain.combine_document_chain.llm_chain.prompt.template)"
   ]
  },
  {
   "cell_type": "code",
   "execution_count": 27,
   "id": "ca8c7139",
   "metadata": {
    "execution": {
     "iopub.execute_input": "2023-12-04T10:25:24.613872Z",
     "iopub.status.busy": "2023-12-04T10:25:24.613212Z",
     "iopub.status.idle": "2023-12-04T10:28:20.460890Z",
     "shell.execute_reply": "2023-12-04T10:28:20.459959Z"
    },
    "papermill": {
     "duration": 175.881781,
     "end_time": "2023-12-04T10:28:20.478104",
     "exception": false,
     "start_time": "2023-12-04T10:25:24.596323",
     "status": "completed"
    },
    "tags": []
   },
   "outputs": [
    {
     "name": "stdout",
     "output_type": "stream",
     "text": [
      "\n",
      "\n",
      "\u001b[1m> Entering new MapReduceDocumentsChain chain...\u001b[0m\n",
      "\n",
      "\n",
      "\u001b[1m> Entering new LLMChain chain...\u001b[0m\n",
      "Prompt after formatting:\n",
      "\u001b[32;1m\u001b[1;3mThe following is a set of documents\n",
      "\n",
      "Often in cases where the imbalance is caused by a sampling bias or measurement error, the\n",
      "imbalance can be corrected by improved sampling methods, and/or correcting the measurement\n",
      "error. This is because the training dataset is not a fair representation of the problem domain\n",
      "that is being addressed.\n",
      "The imbalance might be a property of the problem domain. For example, the natural\n",
      "occurrence or presence of one class may dominate other classes. This may be because the process\n",
      "that generates observations in one class is more expensive in time, cost, computation, or other\n",
      "resources. As such, it is often infeasible or intractable to simply collect more samples from the\n",
      "domain in order to improve the class distribution. Instead, a model is required to learn the\n",
      "diﬀerence between the classes. Now that we are familiar with the possible causes of a class\n",
      "imbalance, let’s consider why imbalanced classiﬁcation problems are challenging.\n",
      "1.5 Challenge of Imbalanced Classiﬁcation\n",
      "\n",
      "Based on this list of docs, please identify the main themes \n",
      "Helpful Answer:\u001b[0m\n",
      "\n",
      "\u001b[1m> Finished chain.\u001b[0m\n",
      "\n",
      "\n",
      "\u001b[1m> Entering new LLMChain chain...\u001b[0m\n",
      "Prompt after formatting:\n",
      "\u001b[32;1m\u001b[1;3mThe following is a set of summaries:\n",
      "\n",
      "\n",
      "The main themes identified in the list of documents are:\n",
      "1. Understanding the cause of class imbalance: The documents explain that class imbalance can arise due to various reasons, including sampling bias, measurement error, and intrinsic properties of the problem domain.\n",
      "2. Impact of class imbalance on machine learning models: The documents highlight how class imbalance can negatively impact the performance of machine learning models, leading to biased predictions and incorrect classifications.\n",
      "3. Approaches to handling class imbalance: The documents provide several strategies for dealing with class imbalance, such as oversampling the minority class, undersampling the majority class, using class weights, and employing specialized algorithms designed for imbalanced datasets.\n",
      "4. Importance of proper documentation: The documents emphasize the importance of documenting the class balance issue and any corrections made to it, in order to ensure transparency and reproduceability of results.\n",
      "\n",
      "Take these and distill it into a final, consolidated list of the main themes. \n",
      "Return that list as a comma separated list. \n",
      "Helpful Answer:\u001b[0m\n",
      "\n",
      "\u001b[1m> Finished chain.\u001b[0m\n",
      "\n",
      "\u001b[1m> Finished chain.\u001b[0m\n"
     ]
    },
    {
     "data": {
      "text/plain": [
       "'\\nThe final, consolidated list of main themes from the provided documents is:\\nUnderstanding class imbalance, its causes, and its impact on machine learning models; Strategies for handling class imbalance; Importance of proper documentation; Transparency and reproducibility of results.'"
      ]
     },
     "execution_count": 27,
     "metadata": {},
     "output_type": "execute_result"
    }
   ],
   "source": [
    "map_template = \"\"\"The following is a set of documents\n",
    "\n",
    "{text}\n",
    "\n",
    "Based on this list of docs, please identify the main themes \n",
    "Helpful Answer:\"\"\"\n",
    "\n",
    "combine_template = \"\"\"The following is a set of summaries:\n",
    "\n",
    "{text}\n",
    "\n",
    "Take these and distill it into a final, consolidated list of the main themes. \n",
    "Return that list as a comma separated list. \n",
    "Helpful Answer:\"\"\"\n",
    "\n",
    "\n",
    "map_prompt = PromptTemplate.from_template(map_template)\n",
    "combine_prompt = PromptTemplate.from_template(combine_template)\n",
    "\n",
    "mr_custom_chain = load_summarize_chain(\n",
    "    llm=llm,\n",
    "    chain_type='map_reduce',\n",
    "    map_prompt=map_prompt,\n",
    "    combine_prompt=combine_prompt,\n",
    "    verbose=True\n",
    ")\n",
    "\n",
    "mr_custom_chain.run(pdf_data2[59:60])"
   ]
  },
  {
   "cell_type": "markdown",
   "id": "656f9265",
   "metadata": {
    "papermill": {
     "duration": 0.0158,
     "end_time": "2023-12-04T10:28:20.510221",
     "exception": false,
     "start_time": "2023-12-04T10:28:20.494421",
     "status": "completed"
    },
    "tags": []
   },
   "source": [
    "## The “Refine“ chain\n",
    "Another strategy to summarize text data is the Refine chain. We begin the summary with the first chunk and refine it little by little with each of the following chunks."
   ]
  },
  {
   "cell_type": "code",
   "execution_count": 28,
   "id": "8cb65db8",
   "metadata": {
    "execution": {
     "iopub.execute_input": "2023-12-04T10:28:20.543645Z",
     "iopub.status.busy": "2023-12-04T10:28:20.542821Z",
     "iopub.status.idle": "2023-12-04T10:28:20.547684Z",
     "shell.execute_reply": "2023-12-04T10:28:20.546786Z"
    },
    "papermill": {
     "duration": 0.023562,
     "end_time": "2023-12-04T10:28:20.549531",
     "exception": false,
     "start_time": "2023-12-04T10:28:20.525969",
     "status": "completed"
    },
    "tags": []
   },
   "outputs": [],
   "source": [
    "ref_chain = load_summarize_chain(\n",
    "    llm=llm,\n",
    "    chain_type='refine',\n",
    "    verbose=True\n",
    ")"
   ]
  },
  {
   "cell_type": "code",
   "execution_count": 29,
   "id": "a6a245b7",
   "metadata": {
    "execution": {
     "iopub.execute_input": "2023-12-04T10:28:20.583006Z",
     "iopub.status.busy": "2023-12-04T10:28:20.582721Z",
     "iopub.status.idle": "2023-12-04T10:29:26.483553Z",
     "shell.execute_reply": "2023-12-04T10:29:26.482705Z"
    },
    "papermill": {
     "duration": 65.936767,
     "end_time": "2023-12-04T10:29:26.502611",
     "exception": false,
     "start_time": "2023-12-04T10:28:20.565844",
     "status": "completed"
    },
    "tags": []
   },
   "outputs": [
    {
     "name": "stdout",
     "output_type": "stream",
     "text": [
      "\n",
      "\n",
      "\u001b[1m> Entering new RefineDocumentsChain chain...\u001b[0m\n",
      "\n",
      "\n",
      "\u001b[1m> Entering new LLMChain chain...\u001b[0m\n",
      "Prompt after formatting:\n",
      "\u001b[32;1m\u001b[1;3mWrite a concise summary of the following:\n",
      "\n",
      "\n",
      "\"station_id: 41515\n",
      "city_name: Asadabad\n",
      "country: Afghanistan\n",
      "state: Kunar\n",
      "iso2: AF\n",
      "iso3: AFG\n",
      "latitude: 34.8660000397\n",
      "longitude: 71.1500045859\"\n",
      "\n",
      "\n",
      "CONCISE SUMMARY:\u001b[0m\n",
      "\n",
      "\u001b[1m> Finished chain.\u001b[0m\n",
      "\n",
      "\u001b[1m> Finished chain.\u001b[0m\n"
     ]
    },
    {
     "data": {
      "text/plain": [
       "\"\\nThe given text is an entry in a database, containing information about a weather station located in Asadabad, Afghanistan. The station's ID is 41515, and it is located in the province of Kunar, which is in the country of Afghanistan (AF). The station's coordinates are latitude 34.8660000397° and longitude 71.1500045859°.\""
      ]
     },
     "execution_count": 29,
     "metadata": {},
     "output_type": "execute_result"
    }
   ],
   "source": [
    "ref_chain.run(cities_data[:1])"
   ]
  },
  {
   "cell_type": "markdown",
   "id": "980a0e2f",
   "metadata": {
    "papermill": {
     "duration": 0.016602,
     "end_time": "2023-12-04T10:29:26.535702",
     "exception": false,
     "start_time": "2023-12-04T10:29:26.519100",
     "status": "completed"
    },
    "tags": []
   },
   "source": [
    "This chain has the tendency to fail as shown above. This is due to the LLM sometime failing to understand the prompt. We have an initial prompt for the first summary, and a prompt for the refine step. But the LLM sometimes fails to execute correctly that refine step, breaking the whole chain. We can create custom prompts to modify the behavior of that chain:"
   ]
  },
  {
   "cell_type": "markdown",
   "id": "44385ac3",
   "metadata": {
    "papermill": {
     "duration": 0.015911,
     "end_time": "2023-12-04T10:29:26.567904",
     "exception": false,
     "start_time": "2023-12-04T10:29:26.551993",
     "status": "completed"
    },
    "tags": []
   },
   "source": [
    "## Custom Prompts\n",
    "The Map-reduce chain has a prompt for the map step, and a prompt for the combine step.\n",
    "We can change the behavior of this chain by using custom prompts"
   ]
  },
  {
   "cell_type": "code",
   "execution_count": 30,
   "id": "17a7b842",
   "metadata": {
    "execution": {
     "iopub.execute_input": "2023-12-04T10:29:26.602122Z",
     "iopub.status.busy": "2023-12-04T10:29:26.601761Z",
     "iopub.status.idle": "2023-12-04T10:29:26.606588Z",
     "shell.execute_reply": "2023-12-04T10:29:26.605713Z"
    },
    "papermill": {
     "duration": 0.02455,
     "end_time": "2023-12-04T10:29:26.608749",
     "exception": false,
     "start_time": "2023-12-04T10:29:26.584199",
     "status": "completed"
    },
    "tags": []
   },
   "outputs": [
    {
     "name": "stdout",
     "output_type": "stream",
     "text": [
      "Write a concise summary of the following:\n",
      "\n",
      "\n",
      "\"{text}\"\n",
      "\n",
      "\n",
      "CONCISE SUMMARY:\n"
     ]
    }
   ],
   "source": [
    "print(ref_chain.initial_llm_chain.prompt.template)"
   ]
  },
  {
   "cell_type": "code",
   "execution_count": 31,
   "id": "6882a303",
   "metadata": {
    "execution": {
     "iopub.execute_input": "2023-12-04T10:29:26.643229Z",
     "iopub.status.busy": "2023-12-04T10:29:26.642609Z",
     "iopub.status.idle": "2023-12-04T10:29:26.647050Z",
     "shell.execute_reply": "2023-12-04T10:29:26.646235Z"
    },
    "papermill": {
     "duration": 0.02409,
     "end_time": "2023-12-04T10:29:26.649302",
     "exception": false,
     "start_time": "2023-12-04T10:29:26.625212",
     "status": "completed"
    },
    "tags": []
   },
   "outputs": [
    {
     "name": "stdout",
     "output_type": "stream",
     "text": [
      "Your job is to produce a final summary.\n",
      "We have provided an existing summary up to a certain point: {existing_answer}\n",
      "We have the opportunity to refine the existing summary (only if needed) with some more context below.\n",
      "------------\n",
      "{text}\n",
      "------------\n",
      "Given the new context, refine the original summary.\n",
      "If the context isn't useful, return the original summary.\n"
     ]
    }
   ],
   "source": [
    "print(ref_chain.refine_llm_chain.prompt.template)"
   ]
  },
  {
   "cell_type": "code",
   "execution_count": 32,
   "id": "021b49b5",
   "metadata": {
    "execution": {
     "iopub.execute_input": "2023-12-04T10:29:26.683667Z",
     "iopub.status.busy": "2023-12-04T10:29:26.683167Z",
     "iopub.status.idle": "2023-12-04T10:30:16.163256Z",
     "shell.execute_reply": "2023-12-04T10:30:16.162340Z"
    },
    "papermill": {
     "duration": 49.51578,
     "end_time": "2023-12-04T10:30:16.181494",
     "exception": false,
     "start_time": "2023-12-04T10:29:26.665714",
     "status": "completed"
    },
    "tags": []
   },
   "outputs": [
    {
     "name": "stdout",
     "output_type": "stream",
     "text": [
      "\n",
      "\n",
      "\u001b[1m> Entering new RefineDocumentsChain chain...\u001b[0m\n",
      "\n",
      "\n",
      "\u001b[1m> Entering new LLMChain chain...\u001b[0m\n",
      "Prompt after formatting:\n",
      "\u001b[32;1m\u001b[1;3m\n",
      "Extract the most relevant themes from the following:\n",
      "\n",
      "\n",
      "\"Often in cases where the imbalance is caused by a sampling bias or measurement error, the\n",
      "imbalance can be corrected by improved sampling methods, and/or correcting the measurement\n",
      "error. This is because the training dataset is not a fair representation of the problem domain\n",
      "that is being addressed.\n",
      "The imbalance might be a property of the problem domain. For example, the natural\n",
      "occurrence or presence of one class may dominate other classes. This may be because the process\n",
      "that generates observations in one class is more expensive in time, cost, computation, or other\n",
      "resources. As such, it is often infeasible or intractable to simply collect more samples from the\n",
      "domain in order to improve the class distribution. Instead, a model is required to learn the\n",
      "diﬀerence between the classes. Now that we are familiar with the possible causes of a class\n",
      "imbalance, let’s consider why imbalanced classiﬁcation problems are challenging.\n",
      "1.5 Challenge of Imbalanced Classiﬁcation\"\n",
      "\n",
      "\n",
      "THEMES:\u001b[0m\n",
      "\n",
      "\u001b[1m> Finished chain.\u001b[0m\n",
      "\n",
      "\u001b[1m> Finished chain.\u001b[0m\n"
     ]
    },
    {
     "data": {
      "text/plain": [
       "'\\n\\n1. The imbalance could be due to sampling or measurement errors and can be resolved by improving the sampling methods or measurements.\\n2. The imbalance might arise from properties of the problem domain, such as dominance of one class over others.\\n3. Imbalanced classifications are challenging due to inherent differences between the classes.'"
      ]
     },
     "execution_count": 32,
     "metadata": {},
     "output_type": "execute_result"
    }
   ],
   "source": [
    "initial_template = \"\"\"\n",
    "Extract the most relevant themes from the following:\n",
    "\n",
    "\n",
    "\"{text}\"\n",
    "\n",
    "\n",
    "THEMES:\"\"\"\n",
    "\n",
    "refine_template = \"\"\"\n",
    "Your job is to extract the most relevant themes\n",
    "We have provided an existing list of themes up to a certain point: {existing_answer}\n",
    "We have the opportunity to refine the existing list(only if needed) with some more context below.\n",
    "------------\n",
    "{text}\n",
    "------------\n",
    "Given the new context, refine the original list\n",
    "If the context isn't useful, return the original list and ONLY the original list.\n",
    "Return that list as a comma separated list.\n",
    "\n",
    "LIST:\"\"\"\n",
    "\n",
    "initial_prompt = PromptTemplate.from_template(initial_template)\n",
    "refine_prompt = PromptTemplate.from_template(refine_template)\n",
    "\n",
    "ref_custom_chain = load_summarize_chain(\n",
    "    llm=llm,\n",
    "    chain_type='refine',\n",
    "    question_prompt=initial_prompt,\n",
    "    refine_prompt=refine_prompt,\n",
    "    verbose=True\n",
    ")\n",
    "\n",
    "ref_custom_chain.run(pdf_data2[59:60])"
   ]
  },
  {
   "cell_type": "markdown",
   "id": "0d008b61",
   "metadata": {
    "papermill": {
     "duration": 0.016384,
     "end_time": "2023-12-04T10:30:16.214652",
     "exception": false,
     "start_time": "2023-12-04T10:30:16.198268",
     "status": "completed"
    },
    "tags": []
   },
   "source": [
    "# END"
   ]
  }
 ],
 "metadata": {
  "kaggle": {
   "accelerator": "gpu",
   "dataSources": [
    {
     "datasetId": 4105349,
     "sourceId": 7118232,
     "sourceType": "datasetVersion"
    }
   ],
   "dockerImageVersionId": 30588,
   "isGpuEnabled": true,
   "isInternetEnabled": true,
   "language": "python",
   "sourceType": "notebook"
  },
  "kernelspec": {
   "display_name": "Python 3",
   "language": "python",
   "name": "python3"
  },
  "language_info": {
   "codemirror_mode": {
    "name": "ipython",
    "version": 3
   },
   "file_extension": ".py",
   "mimetype": "text/x-python",
   "name": "python",
   "nbconvert_exporter": "python",
   "pygments_lexer": "ipython3",
   "version": "3.10.12"
  },
  "papermill": {
   "default_parameters": {},
   "duration": 1105.956979,
   "end_time": "2023-12-04T10:30:19.556373",
   "environment_variables": {},
   "exception": null,
   "input_path": "__notebook__.ipynb",
   "output_path": "__notebook__.ipynb",
   "parameters": {},
   "start_time": "2023-12-04T10:11:53.599394",
   "version": "2.4.0"
  },
  "widgets": {
   "application/vnd.jupyter.widget-state+json": {
    "state": {
     "00977092d1264007b2fe9fc72b3d185d": {
      "model_module": "@jupyter-widgets/base",
      "model_module_version": "1.2.0",
      "model_name": "LayoutModel",
      "state": {
       "_model_module": "@jupyter-widgets/base",
       "_model_module_version": "1.2.0",
       "_model_name": "LayoutModel",
       "_view_count": null,
       "_view_module": "@jupyter-widgets/base",
       "_view_module_version": "1.2.0",
       "_view_name": "LayoutView",
       "align_content": null,
       "align_items": null,
       "align_self": null,
       "border": null,
       "bottom": null,
       "display": null,
       "flex": null,
       "flex_flow": null,
       "grid_area": null,
       "grid_auto_columns": null,
       "grid_auto_flow": null,
       "grid_auto_rows": null,
       "grid_column": null,
       "grid_gap": null,
       "grid_row": null,
       "grid_template_areas": null,
       "grid_template_columns": null,
       "grid_template_rows": null,
       "height": null,
       "justify_content": null,
       "justify_items": null,
       "left": null,
       "margin": null,
       "max_height": null,
       "max_width": null,
       "min_height": null,
       "min_width": null,
       "object_fit": null,
       "object_position": null,
       "order": null,
       "overflow": null,
       "overflow_x": null,
       "overflow_y": null,
       "padding": null,
       "right": null,
       "top": null,
       "visibility": null,
       "width": null
      }
     },
     "00a05baa728a4201abbe033b8ba567f0": {
      "model_module": "@jupyter-widgets/controls",
      "model_module_version": "1.5.0",
      "model_name": "HTMLModel",
      "state": {
       "_dom_classes": [],
       "_model_module": "@jupyter-widgets/controls",
       "_model_module_version": "1.5.0",
       "_model_name": "HTMLModel",
       "_view_count": null,
       "_view_module": "@jupyter-widgets/controls",
       "_view_module_version": "1.5.0",
       "_view_name": "HTMLView",
       "description": "",
       "description_tooltip": null,
       "layout": "IPY_MODEL_a41ecac0a843436088842a3d5f8d3843",
       "placeholder": "​",
       "style": "IPY_MODEL_dfb292b607c4489cbd8e2667a9eb4191",
       "value": " 137/137 [00:00&lt;00:00, 11.5kB/s]"
      }
     },
     "022b8cef257549d5b4f99ab3419a0e98": {
      "model_module": "@jupyter-widgets/controls",
      "model_module_version": "1.5.0",
      "model_name": "DescriptionStyleModel",
      "state": {
       "_model_module": "@jupyter-widgets/controls",
       "_model_module_version": "1.5.0",
       "_model_name": "DescriptionStyleModel",
       "_view_count": null,
       "_view_module": "@jupyter-widgets/base",
       "_view_module_version": "1.2.0",
       "_view_name": "StyleView",
       "description_width": ""
      }
     },
     "0290de74bd674f4dadde2b3a3fa8e39e": {
      "model_module": "@jupyter-widgets/controls",
      "model_module_version": "1.5.0",
      "model_name": "HTMLModel",
      "state": {
       "_dom_classes": [],
       "_model_module": "@jupyter-widgets/controls",
       "_model_module_version": "1.5.0",
       "_model_name": "HTMLModel",
       "_view_count": null,
       "_view_module": "@jupyter-widgets/controls",
       "_view_module_version": "1.5.0",
       "_view_name": "HTMLView",
       "description": "",
       "description_tooltip": null,
       "layout": "IPY_MODEL_a233fcc4b8274c588c4b8c05df3d756f",
       "placeholder": "​",
       "style": "IPY_MODEL_022b8cef257549d5b4f99ab3419a0e98",
       "value": "Downloading tokenizer_config.json: 100%"
      }
     },
     "041b22121aab4ee0b9495e605cd7238e": {
      "model_module": "@jupyter-widgets/controls",
      "model_module_version": "1.5.0",
      "model_name": "HBoxModel",
      "state": {
       "_dom_classes": [],
       "_model_module": "@jupyter-widgets/controls",
       "_model_module_version": "1.5.0",
       "_model_name": "HBoxModel",
       "_view_count": null,
       "_view_module": "@jupyter-widgets/controls",
       "_view_module_version": "1.5.0",
       "_view_name": "HBoxView",
       "box_style": "",
       "children": [
        "IPY_MODEL_0ffbb0879beb450cb8909f7df5cfebfa",
        "IPY_MODEL_2cd74e4bd8224698ae6506c0effedf38",
        "IPY_MODEL_a346ef479f0f49c8967ecbc3a347f22e"
       ],
       "layout": "IPY_MODEL_6b6c1fde17034f19af993f6c7c581123"
      }
     },
     "04f04745a713417d9b93d0ea612cab88": {
      "model_module": "@jupyter-widgets/controls",
      "model_module_version": "1.5.0",
      "model_name": "DescriptionStyleModel",
      "state": {
       "_model_module": "@jupyter-widgets/controls",
       "_model_module_version": "1.5.0",
       "_model_name": "DescriptionStyleModel",
       "_view_count": null,
       "_view_module": "@jupyter-widgets/base",
       "_view_module_version": "1.2.0",
       "_view_name": "StyleView",
       "description_width": ""
      }
     },
     "05a46fd335e241f0b015ea1c78691884": {
      "model_module": "@jupyter-widgets/base",
      "model_module_version": "1.2.0",
      "model_name": "LayoutModel",
      "state": {
       "_model_module": "@jupyter-widgets/base",
       "_model_module_version": "1.2.0",
       "_model_name": "LayoutModel",
       "_view_count": null,
       "_view_module": "@jupyter-widgets/base",
       "_view_module_version": "1.2.0",
       "_view_name": "LayoutView",
       "align_content": null,
       "align_items": null,
       "align_self": null,
       "border": null,
       "bottom": null,
       "display": null,
       "flex": null,
       "flex_flow": null,
       "grid_area": null,
       "grid_auto_columns": null,
       "grid_auto_flow": null,
       "grid_auto_rows": null,
       "grid_column": null,
       "grid_gap": null,
       "grid_row": null,
       "grid_template_areas": null,
       "grid_template_columns": null,
       "grid_template_rows": null,
       "height": null,
       "justify_content": null,
       "justify_items": null,
       "left": null,
       "margin": null,
       "max_height": null,
       "max_width": null,
       "min_height": null,
       "min_width": null,
       "object_fit": null,
       "object_position": null,
       "order": null,
       "overflow": null,
       "overflow_x": null,
       "overflow_y": null,
       "padding": null,
       "right": null,
       "top": null,
       "visibility": null,
       "width": null
      }
     },
     "06314c917e07492a922296c4b6653634": {
      "model_module": "@jupyter-widgets/controls",
      "model_module_version": "1.5.0",
      "model_name": "DescriptionStyleModel",
      "state": {
       "_model_module": "@jupyter-widgets/controls",
       "_model_module_version": "1.5.0",
       "_model_name": "DescriptionStyleModel",
       "_view_count": null,
       "_view_module": "@jupyter-widgets/base",
       "_view_module_version": "1.2.0",
       "_view_name": "StyleView",
       "description_width": ""
      }
     },
     "0d5d6f924e2a46129cf1e37905397749": {
      "model_module": "@jupyter-widgets/controls",
      "model_module_version": "1.5.0",
      "model_name": "DescriptionStyleModel",
      "state": {
       "_model_module": "@jupyter-widgets/controls",
       "_model_module_version": "1.5.0",
       "_model_name": "DescriptionStyleModel",
       "_view_count": null,
       "_view_module": "@jupyter-widgets/base",
       "_view_module_version": "1.2.0",
       "_view_name": "StyleView",
       "description_width": ""
      }
     },
     "0f76ab81332c402f8736538f56708533": {
      "model_module": "@jupyter-widgets/controls",
      "model_module_version": "1.5.0",
      "model_name": "DescriptionStyleModel",
      "state": {
       "_model_module": "@jupyter-widgets/controls",
       "_model_module_version": "1.5.0",
       "_model_name": "DescriptionStyleModel",
       "_view_count": null,
       "_view_module": "@jupyter-widgets/base",
       "_view_module_version": "1.2.0",
       "_view_name": "StyleView",
       "description_width": ""
      }
     },
     "0ffbb0879beb450cb8909f7df5cfebfa": {
      "model_module": "@jupyter-widgets/controls",
      "model_module_version": "1.5.0",
      "model_name": "HTMLModel",
      "state": {
       "_dom_classes": [],
       "_model_module": "@jupyter-widgets/controls",
       "_model_module_version": "1.5.0",
       "_model_name": "HTMLModel",
       "_view_count": null,
       "_view_module": "@jupyter-widgets/controls",
       "_view_module_version": "1.5.0",
       "_view_name": "HTMLView",
       "description": "",
       "description_tooltip": null,
       "layout": "IPY_MODEL_95df7911a16a4026900813f5d273c793",
       "placeholder": "​",
       "style": "IPY_MODEL_c1337305a0f4473d96b2847d747e92e7",
       "value": "Downloading model.safetensors: 100%"
      }
     },
     "14ced156d57a47049a0f0418f8291c27": {
      "model_module": "@jupyter-widgets/base",
      "model_module_version": "1.2.0",
      "model_name": "LayoutModel",
      "state": {
       "_model_module": "@jupyter-widgets/base",
       "_model_module_version": "1.2.0",
       "_model_name": "LayoutModel",
       "_view_count": null,
       "_view_module": "@jupyter-widgets/base",
       "_view_module_version": "1.2.0",
       "_view_name": "LayoutView",
       "align_content": null,
       "align_items": null,
       "align_self": null,
       "border": null,
       "bottom": null,
       "display": null,
       "flex": null,
       "flex_flow": null,
       "grid_area": null,
       "grid_auto_columns": null,
       "grid_auto_flow": null,
       "grid_auto_rows": null,
       "grid_column": null,
       "grid_gap": null,
       "grid_row": null,
       "grid_template_areas": null,
       "grid_template_columns": null,
       "grid_template_rows": null,
       "height": null,
       "justify_content": null,
       "justify_items": null,
       "left": null,
       "margin": null,
       "max_height": null,
       "max_width": null,
       "min_height": null,
       "min_width": null,
       "object_fit": null,
       "object_position": null,
       "order": null,
       "overflow": null,
       "overflow_x": null,
       "overflow_y": null,
       "padding": null,
       "right": null,
       "top": null,
       "visibility": null,
       "width": null
      }
     },
     "14dfbb0b1c934735946fb6ce00c1788f": {
      "model_module": "@jupyter-widgets/controls",
      "model_module_version": "1.5.0",
      "model_name": "HTMLModel",
      "state": {
       "_dom_classes": [],
       "_model_module": "@jupyter-widgets/controls",
       "_model_module_version": "1.5.0",
       "_model_name": "HTMLModel",
       "_view_count": null,
       "_view_module": "@jupyter-widgets/controls",
       "_view_module_version": "1.5.0",
       "_view_name": "HTMLView",
       "description": "",
       "description_tooltip": null,
       "layout": "IPY_MODEL_3c8e4fdc5bc54791bf94ac7d5d5c9c45",
       "placeholder": "​",
       "style": "IPY_MODEL_0d5d6f924e2a46129cf1e37905397749",
       "value": " 665/665 [00:00&lt;00:00, 55.0kB/s]"
      }
     },
     "19ca11f9ea1b4f23ab5e00262bb9aee8": {
      "model_module": "@jupyter-widgets/controls",
      "model_module_version": "1.5.0",
      "model_name": "HTMLModel",
      "state": {
       "_dom_classes": [],
       "_model_module": "@jupyter-widgets/controls",
       "_model_module_version": "1.5.0",
       "_model_name": "HTMLModel",
       "_view_count": null,
       "_view_module": "@jupyter-widgets/controls",
       "_view_module_version": "1.5.0",
       "_view_name": "HTMLView",
       "description": "",
       "description_tooltip": null,
       "layout": "IPY_MODEL_edd5a08db4844400bd5da5092c560f9f",
       "placeholder": "​",
       "style": "IPY_MODEL_98c69e8b281e4b43adfaeed4f5c815c7",
       "value": "Downloading config.json: 100%"
      }
     },
     "1b027ddac5924f7c97b8a374a830485a": {
      "model_module": "@jupyter-widgets/controls",
      "model_module_version": "1.5.0",
      "model_name": "DescriptionStyleModel",
      "state": {
       "_model_module": "@jupyter-widgets/controls",
       "_model_module_version": "1.5.0",
       "_model_name": "DescriptionStyleModel",
       "_view_count": null,
       "_view_module": "@jupyter-widgets/base",
       "_view_module_version": "1.2.0",
       "_view_name": "StyleView",
       "description_width": ""
      }
     },
     "1c5aa492db0f48e9b6917b4197970428": {
      "model_module": "@jupyter-widgets/controls",
      "model_module_version": "1.5.0",
      "model_name": "ProgressStyleModel",
      "state": {
       "_model_module": "@jupyter-widgets/controls",
       "_model_module_version": "1.5.0",
       "_model_name": "ProgressStyleModel",
       "_view_count": null,
       "_view_module": "@jupyter-widgets/base",
       "_view_module_version": "1.2.0",
       "_view_name": "StyleView",
       "bar_color": null,
       "description_width": ""
      }
     },
     "1d64940c74ad4d668717df1f7b6b96d3": {
      "model_module": "@jupyter-widgets/base",
      "model_module_version": "1.2.0",
      "model_name": "LayoutModel",
      "state": {
       "_model_module": "@jupyter-widgets/base",
       "_model_module_version": "1.2.0",
       "_model_name": "LayoutModel",
       "_view_count": null,
       "_view_module": "@jupyter-widgets/base",
       "_view_module_version": "1.2.0",
       "_view_name": "LayoutView",
       "align_content": null,
       "align_items": null,
       "align_self": null,
       "border": null,
       "bottom": null,
       "display": null,
       "flex": null,
       "flex_flow": null,
       "grid_area": null,
       "grid_auto_columns": null,
       "grid_auto_flow": null,
       "grid_auto_rows": null,
       "grid_column": null,
       "grid_gap": null,
       "grid_row": null,
       "grid_template_areas": null,
       "grid_template_columns": null,
       "grid_template_rows": null,
       "height": null,
       "justify_content": null,
       "justify_items": null,
       "left": null,
       "margin": null,
       "max_height": null,
       "max_width": null,
       "min_height": null,
       "min_width": null,
       "object_fit": null,
       "object_position": null,
       "order": null,
       "overflow": null,
       "overflow_x": null,
       "overflow_y": null,
       "padding": null,
       "right": null,
       "top": null,
       "visibility": null,
       "width": null
      }
     },
     "1e68e779a95d42bfb09d6d91dc55830e": {
      "model_module": "@jupyter-widgets/controls",
      "model_module_version": "1.5.0",
      "model_name": "HTMLModel",
      "state": {
       "_dom_classes": [],
       "_model_module": "@jupyter-widgets/controls",
       "_model_module_version": "1.5.0",
       "_model_name": "HTMLModel",
       "_view_count": null,
       "_view_module": "@jupyter-widgets/controls",
       "_view_module_version": "1.5.0",
       "_view_name": "HTMLView",
       "description": "",
       "description_tooltip": null,
       "layout": "IPY_MODEL_b20812f9c49841878a4a33be89a3aa2e",
       "placeholder": "​",
       "style": "IPY_MODEL_e2d1c28f6dd94e2d83e77c03079e1307",
       "value": " 1.04M/1.04M [00:00&lt;00:00, 1.33MB/s]"
      }
     },
     "1ea90637e64b4547be78d3c8fcf38d4a": {
      "model_module": "@jupyter-widgets/base",
      "model_module_version": "1.2.0",
      "model_name": "LayoutModel",
      "state": {
       "_model_module": "@jupyter-widgets/base",
       "_model_module_version": "1.2.0",
       "_model_name": "LayoutModel",
       "_view_count": null,
       "_view_module": "@jupyter-widgets/base",
       "_view_module_version": "1.2.0",
       "_view_name": "LayoutView",
       "align_content": null,
       "align_items": null,
       "align_self": null,
       "border": null,
       "bottom": null,
       "display": null,
       "flex": null,
       "flex_flow": null,
       "grid_area": null,
       "grid_auto_columns": null,
       "grid_auto_flow": null,
       "grid_auto_rows": null,
       "grid_column": null,
       "grid_gap": null,
       "grid_row": null,
       "grid_template_areas": null,
       "grid_template_columns": null,
       "grid_template_rows": null,
       "height": null,
       "justify_content": null,
       "justify_items": null,
       "left": null,
       "margin": null,
       "max_height": null,
       "max_width": null,
       "min_height": null,
       "min_width": null,
       "object_fit": null,
       "object_position": null,
       "order": null,
       "overflow": null,
       "overflow_x": null,
       "overflow_y": null,
       "padding": null,
       "right": null,
       "top": null,
       "visibility": null,
       "width": null
      }
     },
     "1fe691f2e5c04ccd8835c22d489856d0": {
      "model_module": "@jupyter-widgets/controls",
      "model_module_version": "1.5.0",
      "model_name": "HBoxModel",
      "state": {
       "_dom_classes": [],
       "_model_module": "@jupyter-widgets/controls",
       "_model_module_version": "1.5.0",
       "_model_name": "HBoxModel",
       "_view_count": null,
       "_view_module": "@jupyter-widgets/controls",
       "_view_module_version": "1.5.0",
       "_view_name": "HBoxView",
       "box_style": "",
       "children": [
        "IPY_MODEL_a041f9170d7843a4bf8d3a7f13edd31f",
        "IPY_MODEL_e25210e63c80464ba6979190103279dd",
        "IPY_MODEL_528a0a2612df44158822e66fae333195"
       ],
       "layout": "IPY_MODEL_00977092d1264007b2fe9fc72b3d185d"
      }
     },
     "25da85d66a014f8f90e4d2c706ae600d": {
      "model_module": "@jupyter-widgets/controls",
      "model_module_version": "1.5.0",
      "model_name": "HBoxModel",
      "state": {
       "_dom_classes": [],
       "_model_module": "@jupyter-widgets/controls",
       "_model_module_version": "1.5.0",
       "_model_name": "HBoxModel",
       "_view_count": null,
       "_view_module": "@jupyter-widgets/controls",
       "_view_module_version": "1.5.0",
       "_view_name": "HBoxView",
       "box_style": "",
       "children": [
        "IPY_MODEL_b8948885f38942008b1912152000fbc8",
        "IPY_MODEL_83b5325e7cc046baa0308a1831eec301",
        "IPY_MODEL_d70862d42f074032ac84ce2ed2e42e93"
       ],
       "layout": "IPY_MODEL_9ba8151344cd4888a7b153ec07db589d"
      }
     },
     "2652b9496fbe492ea24fc79ce82374e1": {
      "model_module": "@jupyter-widgets/base",
      "model_module_version": "1.2.0",
      "model_name": "LayoutModel",
      "state": {
       "_model_module": "@jupyter-widgets/base",
       "_model_module_version": "1.2.0",
       "_model_name": "LayoutModel",
       "_view_count": null,
       "_view_module": "@jupyter-widgets/base",
       "_view_module_version": "1.2.0",
       "_view_name": "LayoutView",
       "align_content": null,
       "align_items": null,
       "align_self": null,
       "border": null,
       "bottom": null,
       "display": null,
       "flex": null,
       "flex_flow": null,
       "grid_area": null,
       "grid_auto_columns": null,
       "grid_auto_flow": null,
       "grid_auto_rows": null,
       "grid_column": null,
       "grid_gap": null,
       "grid_row": null,
       "grid_template_areas": null,
       "grid_template_columns": null,
       "grid_template_rows": null,
       "height": null,
       "justify_content": null,
       "justify_items": null,
       "left": null,
       "margin": null,
       "max_height": null,
       "max_width": null,
       "min_height": null,
       "min_width": null,
       "object_fit": null,
       "object_position": null,
       "order": null,
       "overflow": null,
       "overflow_x": null,
       "overflow_y": null,
       "padding": null,
       "right": null,
       "top": null,
       "visibility": null,
       "width": null
      }
     },
     "266a962705b940afb6b9ab6c58dd9fb5": {
      "model_module": "@jupyter-widgets/controls",
      "model_module_version": "1.5.0",
      "model_name": "HTMLModel",
      "state": {
       "_dom_classes": [],
       "_model_module": "@jupyter-widgets/controls",
       "_model_module_version": "1.5.0",
       "_model_name": "HTMLModel",
       "_view_count": null,
       "_view_module": "@jupyter-widgets/controls",
       "_view_module_version": "1.5.0",
       "_view_name": "HTMLView",
       "description": "",
       "description_tooltip": null,
       "layout": "IPY_MODEL_6269a0df37404abb85d375697714980d",
       "placeholder": "​",
       "style": "IPY_MODEL_04f04745a713417d9b93d0ea612cab88",
       "value": "Downloading config.json: 100%"
      }
     },
     "288afde31cf64dbd9e1e52c4614908ac": {
      "model_module": "@jupyter-widgets/base",
      "model_module_version": "1.2.0",
      "model_name": "LayoutModel",
      "state": {
       "_model_module": "@jupyter-widgets/base",
       "_model_module_version": "1.2.0",
       "_model_name": "LayoutModel",
       "_view_count": null,
       "_view_module": "@jupyter-widgets/base",
       "_view_module_version": "1.2.0",
       "_view_name": "LayoutView",
       "align_content": null,
       "align_items": null,
       "align_self": null,
       "border": null,
       "bottom": null,
       "display": null,
       "flex": null,
       "flex_flow": null,
       "grid_area": null,
       "grid_auto_columns": null,
       "grid_auto_flow": null,
       "grid_auto_rows": null,
       "grid_column": null,
       "grid_gap": null,
       "grid_row": null,
       "grid_template_areas": null,
       "grid_template_columns": null,
       "grid_template_rows": null,
       "height": null,
       "justify_content": null,
       "justify_items": null,
       "left": null,
       "margin": null,
       "max_height": null,
       "max_width": null,
       "min_height": null,
       "min_width": null,
       "object_fit": null,
       "object_position": null,
       "order": null,
       "overflow": null,
       "overflow_x": null,
       "overflow_y": null,
       "padding": null,
       "right": null,
       "top": null,
       "visibility": null,
       "width": null
      }
     },
     "28d9c88a8da24d36a08863a946d8f47b": {
      "model_module": "@jupyter-widgets/base",
      "model_module_version": "1.2.0",
      "model_name": "LayoutModel",
      "state": {
       "_model_module": "@jupyter-widgets/base",
       "_model_module_version": "1.2.0",
       "_model_name": "LayoutModel",
       "_view_count": null,
       "_view_module": "@jupyter-widgets/base",
       "_view_module_version": "1.2.0",
       "_view_name": "LayoutView",
       "align_content": null,
       "align_items": null,
       "align_self": null,
       "border": null,
       "bottom": null,
       "display": null,
       "flex": null,
       "flex_flow": null,
       "grid_area": null,
       "grid_auto_columns": null,
       "grid_auto_flow": null,
       "grid_auto_rows": null,
       "grid_column": null,
       "grid_gap": null,
       "grid_row": null,
       "grid_template_areas": null,
       "grid_template_columns": null,
       "grid_template_rows": null,
       "height": null,
       "justify_content": null,
       "justify_items": null,
       "left": null,
       "margin": null,
       "max_height": null,
       "max_width": null,
       "min_height": null,
       "min_width": null,
       "object_fit": null,
       "object_position": null,
       "order": null,
       "overflow": null,
       "overflow_x": null,
       "overflow_y": null,
       "padding": null,
       "right": null,
       "top": null,
       "visibility": null,
       "width": null
      }
     },
     "2b24fb9899494ab187aee2efa247c05c": {
      "model_module": "@jupyter-widgets/controls",
      "model_module_version": "1.5.0",
      "model_name": "DescriptionStyleModel",
      "state": {
       "_model_module": "@jupyter-widgets/controls",
       "_model_module_version": "1.5.0",
       "_model_name": "DescriptionStyleModel",
       "_view_count": null,
       "_view_module": "@jupyter-widgets/base",
       "_view_module_version": "1.2.0",
       "_view_name": "StyleView",
       "description_width": ""
      }
     },
     "2cd74e4bd8224698ae6506c0effedf38": {
      "model_module": "@jupyter-widgets/controls",
      "model_module_version": "1.5.0",
      "model_name": "FloatProgressModel",
      "state": {
       "_dom_classes": [],
       "_model_module": "@jupyter-widgets/controls",
       "_model_module_version": "1.5.0",
       "_model_name": "FloatProgressModel",
       "_view_count": null,
       "_view_module": "@jupyter-widgets/controls",
       "_view_module_version": "1.5.0",
       "_view_name": "ProgressView",
       "bar_style": "success",
       "description": "",
       "description_tooltip": null,
       "layout": "IPY_MODEL_c8b7c46748ee4caca56ba6b51c24c8d6",
       "max": 3896726136.0,
       "min": 0.0,
       "orientation": "horizontal",
       "style": "IPY_MODEL_c5df04b3b8fd4e999397c82e48380387",
       "value": 3896726136.0
      }
     },
     "3171e1895142400dacca2b3744228803": {
      "model_module": "@jupyter-widgets/controls",
      "model_module_version": "1.5.0",
      "model_name": "HTMLModel",
      "state": {
       "_dom_classes": [],
       "_model_module": "@jupyter-widgets/controls",
       "_model_module_version": "1.5.0",
       "_model_name": "HTMLModel",
       "_view_count": null,
       "_view_module": "@jupyter-widgets/controls",
       "_view_module_version": "1.5.0",
       "_view_name": "HTMLView",
       "description": "",
       "description_tooltip": null,
       "layout": "IPY_MODEL_d18ac09d4e864f22b584fa738dea029b",
       "placeholder": "​",
       "style": "IPY_MODEL_888dbb7ddd4e424ea3d0336a40f23539",
       "value": " 727/727 [00:00&lt;00:00, 62.2kB/s]"
      }
     },
     "32a01e30b4cc40eabdaac3bb02efbf35": {
      "model_module": "@jupyter-widgets/controls",
      "model_module_version": "1.5.0",
      "model_name": "DescriptionStyleModel",
      "state": {
       "_model_module": "@jupyter-widgets/controls",
       "_model_module_version": "1.5.0",
       "_model_name": "DescriptionStyleModel",
       "_view_count": null,
       "_view_module": "@jupyter-widgets/base",
       "_view_module_version": "1.2.0",
       "_view_name": "StyleView",
       "description_width": ""
      }
     },
     "36e7464794a44e1fb52261f63e4ab7c8": {
      "model_module": "@jupyter-widgets/controls",
      "model_module_version": "1.5.0",
      "model_name": "HBoxModel",
      "state": {
       "_dom_classes": [],
       "_model_module": "@jupyter-widgets/controls",
       "_model_module_version": "1.5.0",
       "_model_name": "HBoxModel",
       "_view_count": null,
       "_view_module": "@jupyter-widgets/controls",
       "_view_module_version": "1.5.0",
       "_view_name": "HBoxView",
       "box_style": "",
       "children": [
        "IPY_MODEL_0290de74bd674f4dadde2b3a3fa8e39e",
        "IPY_MODEL_493df0ccefa447d2926239f96289dc77",
        "IPY_MODEL_3171e1895142400dacca2b3744228803"
       ],
       "layout": "IPY_MODEL_696655c7fb2e471abc37cae59b2d3282"
      }
     },
     "38f3bec171b047c8bca410b8c1bdf1e9": {
      "model_module": "@jupyter-widgets/base",
      "model_module_version": "1.2.0",
      "model_name": "LayoutModel",
      "state": {
       "_model_module": "@jupyter-widgets/base",
       "_model_module_version": "1.2.0",
       "_model_name": "LayoutModel",
       "_view_count": null,
       "_view_module": "@jupyter-widgets/base",
       "_view_module_version": "1.2.0",
       "_view_name": "LayoutView",
       "align_content": null,
       "align_items": null,
       "align_self": null,
       "border": null,
       "bottom": null,
       "display": null,
       "flex": null,
       "flex_flow": null,
       "grid_area": null,
       "grid_auto_columns": null,
       "grid_auto_flow": null,
       "grid_auto_rows": null,
       "grid_column": null,
       "grid_gap": null,
       "grid_row": null,
       "grid_template_areas": null,
       "grid_template_columns": null,
       "grid_template_rows": null,
       "height": null,
       "justify_content": null,
       "justify_items": null,
       "left": null,
       "margin": null,
       "max_height": null,
       "max_width": null,
       "min_height": null,
       "min_width": null,
       "object_fit": null,
       "object_position": null,
       "order": null,
       "overflow": null,
       "overflow_x": null,
       "overflow_y": null,
       "padding": null,
       "right": null,
       "top": null,
       "visibility": null,
       "width": null
      }
     },
     "3adaa9edaca64af2951f4d15a2fcd1c4": {
      "model_module": "@jupyter-widgets/base",
      "model_module_version": "1.2.0",
      "model_name": "LayoutModel",
      "state": {
       "_model_module": "@jupyter-widgets/base",
       "_model_module_version": "1.2.0",
       "_model_name": "LayoutModel",
       "_view_count": null,
       "_view_module": "@jupyter-widgets/base",
       "_view_module_version": "1.2.0",
       "_view_name": "LayoutView",
       "align_content": null,
       "align_items": null,
       "align_self": null,
       "border": null,
       "bottom": null,
       "display": null,
       "flex": null,
       "flex_flow": null,
       "grid_area": null,
       "grid_auto_columns": null,
       "grid_auto_flow": null,
       "grid_auto_rows": null,
       "grid_column": null,
       "grid_gap": null,
       "grid_row": null,
       "grid_template_areas": null,
       "grid_template_columns": null,
       "grid_template_rows": null,
       "height": null,
       "justify_content": null,
       "justify_items": null,
       "left": null,
       "margin": null,
       "max_height": null,
       "max_width": null,
       "min_height": null,
       "min_width": null,
       "object_fit": null,
       "object_position": null,
       "order": null,
       "overflow": null,
       "overflow_x": null,
       "overflow_y": null,
       "padding": null,
       "right": null,
       "top": null,
       "visibility": null,
       "width": null
      }
     },
     "3b0e81a2090546418cb9eb756c1495cf": {
      "model_module": "@jupyter-widgets/base",
      "model_module_version": "1.2.0",
      "model_name": "LayoutModel",
      "state": {
       "_model_module": "@jupyter-widgets/base",
       "_model_module_version": "1.2.0",
       "_model_name": "LayoutModel",
       "_view_count": null,
       "_view_module": "@jupyter-widgets/base",
       "_view_module_version": "1.2.0",
       "_view_name": "LayoutView",
       "align_content": null,
       "align_items": null,
       "align_self": null,
       "border": null,
       "bottom": null,
       "display": null,
       "flex": null,
       "flex_flow": null,
       "grid_area": null,
       "grid_auto_columns": null,
       "grid_auto_flow": null,
       "grid_auto_rows": null,
       "grid_column": null,
       "grid_gap": null,
       "grid_row": null,
       "grid_template_areas": null,
       "grid_template_columns": null,
       "grid_template_rows": null,
       "height": null,
       "justify_content": null,
       "justify_items": null,
       "left": null,
       "margin": null,
       "max_height": null,
       "max_width": null,
       "min_height": null,
       "min_width": null,
       "object_fit": null,
       "object_position": null,
       "order": null,
       "overflow": null,
       "overflow_x": null,
       "overflow_y": null,
       "padding": null,
       "right": null,
       "top": null,
       "visibility": null,
       "width": null
      }
     },
     "3c8e4fdc5bc54791bf94ac7d5d5c9c45": {
      "model_module": "@jupyter-widgets/base",
      "model_module_version": "1.2.0",
      "model_name": "LayoutModel",
      "state": {
       "_model_module": "@jupyter-widgets/base",
       "_model_module_version": "1.2.0",
       "_model_name": "LayoutModel",
       "_view_count": null,
       "_view_module": "@jupyter-widgets/base",
       "_view_module_version": "1.2.0",
       "_view_name": "LayoutView",
       "align_content": null,
       "align_items": null,
       "align_self": null,
       "border": null,
       "bottom": null,
       "display": null,
       "flex": null,
       "flex_flow": null,
       "grid_area": null,
       "grid_auto_columns": null,
       "grid_auto_flow": null,
       "grid_auto_rows": null,
       "grid_column": null,
       "grid_gap": null,
       "grid_row": null,
       "grid_template_areas": null,
       "grid_template_columns": null,
       "grid_template_rows": null,
       "height": null,
       "justify_content": null,
       "justify_items": null,
       "left": null,
       "margin": null,
       "max_height": null,
       "max_width": null,
       "min_height": null,
       "min_width": null,
       "object_fit": null,
       "object_position": null,
       "order": null,
       "overflow": null,
       "overflow_x": null,
       "overflow_y": null,
       "padding": null,
       "right": null,
       "top": null,
       "visibility": null,
       "width": null
      }
     },
     "3db034b0e6e04e13bf103627cedd73b4": {
      "model_module": "@jupyter-widgets/controls",
      "model_module_version": "1.5.0",
      "model_name": "FloatProgressModel",
      "state": {
       "_dom_classes": [],
       "_model_module": "@jupyter-widgets/controls",
       "_model_module_version": "1.5.0",
       "_model_name": "FloatProgressModel",
       "_view_count": null,
       "_view_module": "@jupyter-widgets/controls",
       "_view_module_version": "1.5.0",
       "_view_name": "ProgressView",
       "bar_style": "success",
       "description": "",
       "description_tooltip": null,
       "layout": "IPY_MODEL_f5fc28d565334567b22daa940e6592dc",
       "max": 411.0,
       "min": 0.0,
       "orientation": "horizontal",
       "style": "IPY_MODEL_ddf74afc94de439cb2ed49c07060e5ba",
       "value": 411.0
      }
     },
     "42660ea33ee7448d8d466e9f4eafd2db": {
      "model_module": "@jupyter-widgets/base",
      "model_module_version": "1.2.0",
      "model_name": "LayoutModel",
      "state": {
       "_model_module": "@jupyter-widgets/base",
       "_model_module_version": "1.2.0",
       "_model_name": "LayoutModel",
       "_view_count": null,
       "_view_module": "@jupyter-widgets/base",
       "_view_module_version": "1.2.0",
       "_view_name": "LayoutView",
       "align_content": null,
       "align_items": null,
       "align_self": null,
       "border": null,
       "bottom": null,
       "display": null,
       "flex": null,
       "flex_flow": null,
       "grid_area": null,
       "grid_auto_columns": null,
       "grid_auto_flow": null,
       "grid_auto_rows": null,
       "grid_column": null,
       "grid_gap": null,
       "grid_row": null,
       "grid_template_areas": null,
       "grid_template_columns": null,
       "grid_template_rows": null,
       "height": null,
       "justify_content": null,
       "justify_items": null,
       "left": null,
       "margin": null,
       "max_height": null,
       "max_width": null,
       "min_height": null,
       "min_width": null,
       "object_fit": null,
       "object_position": null,
       "order": null,
       "overflow": null,
       "overflow_x": null,
       "overflow_y": null,
       "padding": null,
       "right": null,
       "top": null,
       "visibility": null,
       "width": null
      }
     },
     "42b38e5da4ca47dd87b4f2af770d351e": {
      "model_module": "@jupyter-widgets/controls",
      "model_module_version": "1.5.0",
      "model_name": "HTMLModel",
      "state": {
       "_dom_classes": [],
       "_model_module": "@jupyter-widgets/controls",
       "_model_module_version": "1.5.0",
       "_model_name": "HTMLModel",
       "_view_count": null,
       "_view_module": "@jupyter-widgets/controls",
       "_view_module_version": "1.5.0",
       "_view_name": "HTMLView",
       "description": "",
       "description_tooltip": null,
       "layout": "IPY_MODEL_d1132420a48e47a28e343e63699718b7",
       "placeholder": "​",
       "style": "IPY_MODEL_06314c917e07492a922296c4b6653634",
       "value": "Downloading merges.txt: 100%"
      }
     },
     "45240e34edad47c9b938ccaced38170f": {
      "model_module": "@jupyter-widgets/controls",
      "model_module_version": "1.5.0",
      "model_name": "HTMLModel",
      "state": {
       "_dom_classes": [],
       "_model_module": "@jupyter-widgets/controls",
       "_model_module_version": "1.5.0",
       "_model_name": "HTMLModel",
       "_view_count": null,
       "_view_module": "@jupyter-widgets/controls",
       "_view_module_version": "1.5.0",
       "_view_name": "HTMLView",
       "description": "",
       "description_tooltip": null,
       "layout": "IPY_MODEL_d20a43b0f8c340d7904fe3e4bb85e1d1",
       "placeholder": "​",
       "style": "IPY_MODEL_bf061160fdee4b3d92b2369b26f7fc05",
       "value": " 411/411 [00:00&lt;00:00, 36.3kB/s]"
      }
     },
     "463eec1b2e3b4d45800c2a37fb652afe": {
      "model_module": "@jupyter-widgets/base",
      "model_module_version": "1.2.0",
      "model_name": "LayoutModel",
      "state": {
       "_model_module": "@jupyter-widgets/base",
       "_model_module_version": "1.2.0",
       "_model_name": "LayoutModel",
       "_view_count": null,
       "_view_module": "@jupyter-widgets/base",
       "_view_module_version": "1.2.0",
       "_view_name": "LayoutView",
       "align_content": null,
       "align_items": null,
       "align_self": null,
       "border": null,
       "bottom": null,
       "display": null,
       "flex": null,
       "flex_flow": null,
       "grid_area": null,
       "grid_auto_columns": null,
       "grid_auto_flow": null,
       "grid_auto_rows": null,
       "grid_column": null,
       "grid_gap": null,
       "grid_row": null,
       "grid_template_areas": null,
       "grid_template_columns": null,
       "grid_template_rows": null,
       "height": null,
       "justify_content": null,
       "justify_items": null,
       "left": null,
       "margin": null,
       "max_height": null,
       "max_width": null,
       "min_height": null,
       "min_width": null,
       "object_fit": null,
       "object_position": null,
       "order": null,
       "overflow": null,
       "overflow_x": null,
       "overflow_y": null,
       "padding": null,
       "right": null,
       "top": null,
       "visibility": null,
       "width": null
      }
     },
     "493df0ccefa447d2926239f96289dc77": {
      "model_module": "@jupyter-widgets/controls",
      "model_module_version": "1.5.0",
      "model_name": "FloatProgressModel",
      "state": {
       "_dom_classes": [],
       "_model_module": "@jupyter-widgets/controls",
       "_model_module_version": "1.5.0",
       "_model_name": "FloatProgressModel",
       "_view_count": null,
       "_view_module": "@jupyter-widgets/controls",
       "_view_module_version": "1.5.0",
       "_view_name": "ProgressView",
       "bar_style": "success",
       "description": "",
       "description_tooltip": null,
       "layout": "IPY_MODEL_3b0e81a2090546418cb9eb756c1495cf",
       "max": 727.0,
       "min": 0.0,
       "orientation": "horizontal",
       "style": "IPY_MODEL_1c5aa492db0f48e9b6917b4197970428",
       "value": 727.0
      }
     },
     "4caebb409d964c16941d076aefa63b89": {
      "model_module": "@jupyter-widgets/controls",
      "model_module_version": "1.5.0",
      "model_name": "DescriptionStyleModel",
      "state": {
       "_model_module": "@jupyter-widgets/controls",
       "_model_module_version": "1.5.0",
       "_model_name": "DescriptionStyleModel",
       "_view_count": null,
       "_view_module": "@jupyter-widgets/base",
       "_view_module_version": "1.2.0",
       "_view_name": "StyleView",
       "description_width": ""
      }
     },
     "4f0b8c84288d453f8f503b27314d5d00": {
      "model_module": "@jupyter-widgets/base",
      "model_module_version": "1.2.0",
      "model_name": "LayoutModel",
      "state": {
       "_model_module": "@jupyter-widgets/base",
       "_model_module_version": "1.2.0",
       "_model_name": "LayoutModel",
       "_view_count": null,
       "_view_module": "@jupyter-widgets/base",
       "_view_module_version": "1.2.0",
       "_view_name": "LayoutView",
       "align_content": null,
       "align_items": null,
       "align_self": null,
       "border": null,
       "bottom": null,
       "display": null,
       "flex": null,
       "flex_flow": null,
       "grid_area": null,
       "grid_auto_columns": null,
       "grid_auto_flow": null,
       "grid_auto_rows": null,
       "grid_column": null,
       "grid_gap": null,
       "grid_row": null,
       "grid_template_areas": null,
       "grid_template_columns": null,
       "grid_template_rows": null,
       "height": null,
       "justify_content": null,
       "justify_items": null,
       "left": null,
       "margin": null,
       "max_height": null,
       "max_width": null,
       "min_height": null,
       "min_width": null,
       "object_fit": null,
       "object_position": null,
       "order": null,
       "overflow": null,
       "overflow_x": null,
       "overflow_y": null,
       "padding": null,
       "right": null,
       "top": null,
       "visibility": null,
       "width": null
      }
     },
     "4ff436b47f0c4d9a8092acd9e6778e93": {
      "model_module": "@jupyter-widgets/base",
      "model_module_version": "1.2.0",
      "model_name": "LayoutModel",
      "state": {
       "_model_module": "@jupyter-widgets/base",
       "_model_module_version": "1.2.0",
       "_model_name": "LayoutModel",
       "_view_count": null,
       "_view_module": "@jupyter-widgets/base",
       "_view_module_version": "1.2.0",
       "_view_name": "LayoutView",
       "align_content": null,
       "align_items": null,
       "align_self": null,
       "border": null,
       "bottom": null,
       "display": null,
       "flex": null,
       "flex_flow": null,
       "grid_area": null,
       "grid_auto_columns": null,
       "grid_auto_flow": null,
       "grid_auto_rows": null,
       "grid_column": null,
       "grid_gap": null,
       "grid_row": null,
       "grid_template_areas": null,
       "grid_template_columns": null,
       "grid_template_rows": null,
       "height": null,
       "justify_content": null,
       "justify_items": null,
       "left": null,
       "margin": null,
       "max_height": null,
       "max_width": null,
       "min_height": null,
       "min_width": null,
       "object_fit": null,
       "object_position": null,
       "order": null,
       "overflow": null,
       "overflow_x": null,
       "overflow_y": null,
       "padding": null,
       "right": null,
       "top": null,
       "visibility": null,
       "width": null
      }
     },
     "503cb577a39e478bb80d4cfd8d3e7644": {
      "model_module": "@jupyter-widgets/base",
      "model_module_version": "1.2.0",
      "model_name": "LayoutModel",
      "state": {
       "_model_module": "@jupyter-widgets/base",
       "_model_module_version": "1.2.0",
       "_model_name": "LayoutModel",
       "_view_count": null,
       "_view_module": "@jupyter-widgets/base",
       "_view_module_version": "1.2.0",
       "_view_name": "LayoutView",
       "align_content": null,
       "align_items": null,
       "align_self": null,
       "border": null,
       "bottom": null,
       "display": null,
       "flex": null,
       "flex_flow": null,
       "grid_area": null,
       "grid_auto_columns": null,
       "grid_auto_flow": null,
       "grid_auto_rows": null,
       "grid_column": null,
       "grid_gap": null,
       "grid_row": null,
       "grid_template_areas": null,
       "grid_template_columns": null,
       "grid_template_rows": null,
       "height": null,
       "justify_content": null,
       "justify_items": null,
       "left": null,
       "margin": null,
       "max_height": null,
       "max_width": null,
       "min_height": null,
       "min_width": null,
       "object_fit": null,
       "object_position": null,
       "order": null,
       "overflow": null,
       "overflow_x": null,
       "overflow_y": null,
       "padding": null,
       "right": null,
       "top": null,
       "visibility": null,
       "width": null
      }
     },
     "528a0a2612df44158822e66fae333195": {
      "model_module": "@jupyter-widgets/controls",
      "model_module_version": "1.5.0",
      "model_name": "HTMLModel",
      "state": {
       "_dom_classes": [],
       "_model_module": "@jupyter-widgets/controls",
       "_model_module_version": "1.5.0",
       "_model_name": "HTMLModel",
       "_view_count": null,
       "_view_module": "@jupyter-widgets/controls",
       "_view_module_version": "1.5.0",
       "_view_name": "HTMLView",
       "description": "",
       "description_tooltip": null,
       "layout": "IPY_MODEL_c6abeab98cfd4d70bcee164df55072f6",
       "placeholder": "​",
       "style": "IPY_MODEL_1b027ddac5924f7c97b8a374a830485a",
       "value": " 500k/500k [00:00&lt;00:00, 22.5MB/s]"
      }
     },
     "56aeefbe524d4c109c79a31b3daad19d": {
      "model_module": "@jupyter-widgets/base",
      "model_module_version": "1.2.0",
      "model_name": "LayoutModel",
      "state": {
       "_model_module": "@jupyter-widgets/base",
       "_model_module_version": "1.2.0",
       "_model_name": "LayoutModel",
       "_view_count": null,
       "_view_module": "@jupyter-widgets/base",
       "_view_module_version": "1.2.0",
       "_view_name": "LayoutView",
       "align_content": null,
       "align_items": null,
       "align_self": null,
       "border": null,
       "bottom": null,
       "display": null,
       "flex": null,
       "flex_flow": null,
       "grid_area": null,
       "grid_auto_columns": null,
       "grid_auto_flow": null,
       "grid_auto_rows": null,
       "grid_column": null,
       "grid_gap": null,
       "grid_row": null,
       "grid_template_areas": null,
       "grid_template_columns": null,
       "grid_template_rows": null,
       "height": null,
       "justify_content": null,
       "justify_items": null,
       "left": null,
       "margin": null,
       "max_height": null,
       "max_width": null,
       "min_height": null,
       "min_width": null,
       "object_fit": null,
       "object_position": null,
       "order": null,
       "overflow": null,
       "overflow_x": null,
       "overflow_y": null,
       "padding": null,
       "right": null,
       "top": null,
       "visibility": null,
       "width": null
      }
     },
     "56eb1f2a8600418287bfde13ebb9ca3a": {
      "model_module": "@jupyter-widgets/controls",
      "model_module_version": "1.5.0",
      "model_name": "ProgressStyleModel",
      "state": {
       "_model_module": "@jupyter-widgets/controls",
       "_model_module_version": "1.5.0",
       "_model_name": "ProgressStyleModel",
       "_view_count": null,
       "_view_module": "@jupyter-widgets/base",
       "_view_module_version": "1.2.0",
       "_view_name": "StyleView",
       "bar_color": null,
       "description_width": ""
      }
     },
     "5755c1f4cd4549e8be9b34443f56ed9e": {
      "model_module": "@jupyter-widgets/controls",
      "model_module_version": "1.5.0",
      "model_name": "FloatProgressModel",
      "state": {
       "_dom_classes": [],
       "_model_module": "@jupyter-widgets/controls",
       "_model_module_version": "1.5.0",
       "_model_name": "FloatProgressModel",
       "_view_count": null,
       "_view_module": "@jupyter-widgets/controls",
       "_view_module_version": "1.5.0",
       "_view_name": "ProgressView",
       "bar_style": "success",
       "description": "",
       "description_tooltip": null,
       "layout": "IPY_MODEL_97aebe7ba59442b3a8fec8e47d4d3bf4",
       "max": 137.0,
       "min": 0.0,
       "orientation": "horizontal",
       "style": "IPY_MODEL_f882401efb514898937bc4976c7cc0ae",
       "value": 137.0
      }
     },
     "585e6bd66358408ea96af33dbc6b4bd5": {
      "model_module": "@jupyter-widgets/controls",
      "model_module_version": "1.5.0",
      "model_name": "HTMLModel",
      "state": {
       "_dom_classes": [],
       "_model_module": "@jupyter-widgets/controls",
       "_model_module_version": "1.5.0",
       "_model_name": "HTMLModel",
       "_view_count": null,
       "_view_module": "@jupyter-widgets/controls",
       "_view_module_version": "1.5.0",
       "_view_name": "HTMLView",
       "description": "",
       "description_tooltip": null,
       "layout": "IPY_MODEL_28d9c88a8da24d36a08863a946d8f47b",
       "placeholder": "​",
       "style": "IPY_MODEL_32a01e30b4cc40eabdaac3bb02efbf35",
       "value": " 456k/456k [00:00&lt;00:00, 32.7MB/s]"
      }
     },
     "5c043600a639434db1195c2218d0ba0d": {
      "model_module": "@jupyter-widgets/controls",
      "model_module_version": "1.5.0",
      "model_name": "FloatProgressModel",
      "state": {
       "_dom_classes": [],
       "_model_module": "@jupyter-widgets/controls",
       "_model_module_version": "1.5.0",
       "_model_name": "FloatProgressModel",
       "_view_count": null,
       "_view_module": "@jupyter-widgets/controls",
       "_view_module_version": "1.5.0",
       "_view_name": "ProgressView",
       "bar_style": "success",
       "description": "",
       "description_tooltip": null,
       "layout": "IPY_MODEL_56aeefbe524d4c109c79a31b3daad19d",
       "max": 789.0,
       "min": 0.0,
       "orientation": "horizontal",
       "style": "IPY_MODEL_718cfdc86cb148d58636dd344cbef8e1",
       "value": 789.0
      }
     },
     "5e66494833824e35bf8b24a10d6f319a": {
      "model_module": "@jupyter-widgets/controls",
      "model_module_version": "1.5.0",
      "model_name": "HTMLModel",
      "state": {
       "_dom_classes": [],
       "_model_module": "@jupyter-widgets/controls",
       "_model_module_version": "1.5.0",
       "_model_name": "HTMLModel",
       "_view_count": null,
       "_view_module": "@jupyter-widgets/controls",
       "_view_module_version": "1.5.0",
       "_view_name": "HTMLView",
       "description": "",
       "description_tooltip": null,
       "layout": "IPY_MODEL_14ced156d57a47049a0f0418f8291c27",
       "placeholder": "​",
       "style": "IPY_MODEL_92d2fb6fdae84ef1ab460982f5c0abbe",
       "value": "Downloading generation_config.json: 100%"
      }
     },
     "5e8b5f7ac1734187860c7ed78fe4c595": {
      "model_module": "@jupyter-widgets/controls",
      "model_module_version": "1.5.0",
      "model_name": "DescriptionStyleModel",
      "state": {
       "_model_module": "@jupyter-widgets/controls",
       "_model_module_version": "1.5.0",
       "_model_name": "DescriptionStyleModel",
       "_view_count": null,
       "_view_module": "@jupyter-widgets/base",
       "_view_module_version": "1.2.0",
       "_view_name": "StyleView",
       "description_width": ""
      }
     },
     "60297d568a9b4666b724c890d96777fa": {
      "model_module": "@jupyter-widgets/controls",
      "model_module_version": "1.5.0",
      "model_name": "FloatProgressModel",
      "state": {
       "_dom_classes": [],
       "_model_module": "@jupyter-widgets/controls",
       "_model_module_version": "1.5.0",
       "_model_name": "FloatProgressModel",
       "_view_count": null,
       "_view_module": "@jupyter-widgets/controls",
       "_view_module_version": "1.5.0",
       "_view_name": "ProgressView",
       "bar_style": "success",
       "description": "",
       "description_tooltip": null,
       "layout": "IPY_MODEL_1ea90637e64b4547be78d3c8fcf38d4a",
       "max": 665.0,
       "min": 0.0,
       "orientation": "horizontal",
       "style": "IPY_MODEL_871ca38004c144a890d5ed4de548c029",
       "value": 665.0
      }
     },
     "61c0c6dbc0b94949bfed139bab38efad": {
      "model_module": "@jupyter-widgets/base",
      "model_module_version": "1.2.0",
      "model_name": "LayoutModel",
      "state": {
       "_model_module": "@jupyter-widgets/base",
       "_model_module_version": "1.2.0",
       "_model_name": "LayoutModel",
       "_view_count": null,
       "_view_module": "@jupyter-widgets/base",
       "_view_module_version": "1.2.0",
       "_view_name": "LayoutView",
       "align_content": null,
       "align_items": null,
       "align_self": null,
       "border": null,
       "bottom": null,
       "display": null,
       "flex": null,
       "flex_flow": null,
       "grid_area": null,
       "grid_auto_columns": null,
       "grid_auto_flow": null,
       "grid_auto_rows": null,
       "grid_column": null,
       "grid_gap": null,
       "grid_row": null,
       "grid_template_areas": null,
       "grid_template_columns": null,
       "grid_template_rows": null,
       "height": null,
       "justify_content": null,
       "justify_items": null,
       "left": null,
       "margin": null,
       "max_height": null,
       "max_width": null,
       "min_height": null,
       "min_width": null,
       "object_fit": null,
       "object_position": null,
       "order": null,
       "overflow": null,
       "overflow_x": null,
       "overflow_y": null,
       "padding": null,
       "right": null,
       "top": null,
       "visibility": null,
       "width": null
      }
     },
     "6269a0df37404abb85d375697714980d": {
      "model_module": "@jupyter-widgets/base",
      "model_module_version": "1.2.0",
      "model_name": "LayoutModel",
      "state": {
       "_model_module": "@jupyter-widgets/base",
       "_model_module_version": "1.2.0",
       "_model_name": "LayoutModel",
       "_view_count": null,
       "_view_module": "@jupyter-widgets/base",
       "_view_module_version": "1.2.0",
       "_view_name": "LayoutView",
       "align_content": null,
       "align_items": null,
       "align_self": null,
       "border": null,
       "bottom": null,
       "display": null,
       "flex": null,
       "flex_flow": null,
       "grid_area": null,
       "grid_auto_columns": null,
       "grid_auto_flow": null,
       "grid_auto_rows": null,
       "grid_column": null,
       "grid_gap": null,
       "grid_row": null,
       "grid_template_areas": null,
       "grid_template_columns": null,
       "grid_template_rows": null,
       "height": null,
       "justify_content": null,
       "justify_items": null,
       "left": null,
       "margin": null,
       "max_height": null,
       "max_width": null,
       "min_height": null,
       "min_width": null,
       "object_fit": null,
       "object_position": null,
       "order": null,
       "overflow": null,
       "overflow_x": null,
       "overflow_y": null,
       "padding": null,
       "right": null,
       "top": null,
       "visibility": null,
       "width": null
      }
     },
     "696655c7fb2e471abc37cae59b2d3282": {
      "model_module": "@jupyter-widgets/base",
      "model_module_version": "1.2.0",
      "model_name": "LayoutModel",
      "state": {
       "_model_module": "@jupyter-widgets/base",
       "_model_module_version": "1.2.0",
       "_model_name": "LayoutModel",
       "_view_count": null,
       "_view_module": "@jupyter-widgets/base",
       "_view_module_version": "1.2.0",
       "_view_name": "LayoutView",
       "align_content": null,
       "align_items": null,
       "align_self": null,
       "border": null,
       "bottom": null,
       "display": null,
       "flex": null,
       "flex_flow": null,
       "grid_area": null,
       "grid_auto_columns": null,
       "grid_auto_flow": null,
       "grid_auto_rows": null,
       "grid_column": null,
       "grid_gap": null,
       "grid_row": null,
       "grid_template_areas": null,
       "grid_template_columns": null,
       "grid_template_rows": null,
       "height": null,
       "justify_content": null,
       "justify_items": null,
       "left": null,
       "margin": null,
       "max_height": null,
       "max_width": null,
       "min_height": null,
       "min_width": null,
       "object_fit": null,
       "object_position": null,
       "order": null,
       "overflow": null,
       "overflow_x": null,
       "overflow_y": null,
       "padding": null,
       "right": null,
       "top": null,
       "visibility": null,
       "width": null
      }
     },
     "6986c0a635bd4cf789ed4e32e0df1c90": {
      "model_module": "@jupyter-widgets/controls",
      "model_module_version": "1.5.0",
      "model_name": "HTMLModel",
      "state": {
       "_dom_classes": [],
       "_model_module": "@jupyter-widgets/controls",
       "_model_module_version": "1.5.0",
       "_model_name": "HTMLModel",
       "_view_count": null,
       "_view_module": "@jupyter-widgets/controls",
       "_view_module_version": "1.5.0",
       "_view_name": "HTMLView",
       "description": "",
       "description_tooltip": null,
       "layout": "IPY_MODEL_38f3bec171b047c8bca410b8c1bdf1e9",
       "placeholder": "​",
       "style": "IPY_MODEL_4caebb409d964c16941d076aefa63b89",
       "value": "Downloading tokenizer.json: 100%"
      }
     },
     "6b6c1fde17034f19af993f6c7c581123": {
      "model_module": "@jupyter-widgets/base",
      "model_module_version": "1.2.0",
      "model_name": "LayoutModel",
      "state": {
       "_model_module": "@jupyter-widgets/base",
       "_model_module_version": "1.2.0",
       "_model_name": "LayoutModel",
       "_view_count": null,
       "_view_module": "@jupyter-widgets/base",
       "_view_module_version": "1.2.0",
       "_view_name": "LayoutView",
       "align_content": null,
       "align_items": null,
       "align_self": null,
       "border": null,
       "bottom": null,
       "display": null,
       "flex": null,
       "flex_flow": null,
       "grid_area": null,
       "grid_auto_columns": null,
       "grid_auto_flow": null,
       "grid_auto_rows": null,
       "grid_column": null,
       "grid_gap": null,
       "grid_row": null,
       "grid_template_areas": null,
       "grid_template_columns": null,
       "grid_template_rows": null,
       "height": null,
       "justify_content": null,
       "justify_items": null,
       "left": null,
       "margin": null,
       "max_height": null,
       "max_width": null,
       "min_height": null,
       "min_width": null,
       "object_fit": null,
       "object_position": null,
       "order": null,
       "overflow": null,
       "overflow_x": null,
       "overflow_y": null,
       "padding": null,
       "right": null,
       "top": null,
       "visibility": null,
       "width": null
      }
     },
     "6c37f051dac54d5fb67043d34749e8a7": {
      "model_module": "@jupyter-widgets/base",
      "model_module_version": "1.2.0",
      "model_name": "LayoutModel",
      "state": {
       "_model_module": "@jupyter-widgets/base",
       "_model_module_version": "1.2.0",
       "_model_name": "LayoutModel",
       "_view_count": null,
       "_view_module": "@jupyter-widgets/base",
       "_view_module_version": "1.2.0",
       "_view_name": "LayoutView",
       "align_content": null,
       "align_items": null,
       "align_self": null,
       "border": null,
       "bottom": null,
       "display": null,
       "flex": null,
       "flex_flow": null,
       "grid_area": null,
       "grid_auto_columns": null,
       "grid_auto_flow": null,
       "grid_auto_rows": null,
       "grid_column": null,
       "grid_gap": null,
       "grid_row": null,
       "grid_template_areas": null,
       "grid_template_columns": null,
       "grid_template_rows": null,
       "height": null,
       "justify_content": null,
       "justify_items": null,
       "left": null,
       "margin": null,
       "max_height": null,
       "max_width": null,
       "min_height": null,
       "min_width": null,
       "object_fit": null,
       "object_position": null,
       "order": null,
       "overflow": null,
       "overflow_x": null,
       "overflow_y": null,
       "padding": null,
       "right": null,
       "top": null,
       "visibility": null,
       "width": null
      }
     },
     "70c0f94ee19b44199435e2d9bb186760": {
      "model_module": "@jupyter-widgets/base",
      "model_module_version": "1.2.0",
      "model_name": "LayoutModel",
      "state": {
       "_model_module": "@jupyter-widgets/base",
       "_model_module_version": "1.2.0",
       "_model_name": "LayoutModel",
       "_view_count": null,
       "_view_module": "@jupyter-widgets/base",
       "_view_module_version": "1.2.0",
       "_view_name": "LayoutView",
       "align_content": null,
       "align_items": null,
       "align_self": null,
       "border": null,
       "bottom": null,
       "display": null,
       "flex": null,
       "flex_flow": null,
       "grid_area": null,
       "grid_auto_columns": null,
       "grid_auto_flow": null,
       "grid_auto_rows": null,
       "grid_column": null,
       "grid_gap": null,
       "grid_row": null,
       "grid_template_areas": null,
       "grid_template_columns": null,
       "grid_template_rows": null,
       "height": null,
       "justify_content": null,
       "justify_items": null,
       "left": null,
       "margin": null,
       "max_height": null,
       "max_width": null,
       "min_height": null,
       "min_width": null,
       "object_fit": null,
       "object_position": null,
       "order": null,
       "overflow": null,
       "overflow_x": null,
       "overflow_y": null,
       "padding": null,
       "right": null,
       "top": null,
       "visibility": null,
       "width": null
      }
     },
     "7128117cc8564c57b23e799157bc9619": {
      "model_module": "@jupyter-widgets/controls",
      "model_module_version": "1.5.0",
      "model_name": "HBoxModel",
      "state": {
       "_dom_classes": [],
       "_model_module": "@jupyter-widgets/controls",
       "_model_module_version": "1.5.0",
       "_model_name": "HBoxModel",
       "_view_count": null,
       "_view_module": "@jupyter-widgets/controls",
       "_view_module_version": "1.5.0",
       "_view_name": "HBoxView",
       "box_style": "",
       "children": [
        "IPY_MODEL_5e66494833824e35bf8b24a10d6f319a",
        "IPY_MODEL_5755c1f4cd4549e8be9b34443f56ed9e",
        "IPY_MODEL_00a05baa728a4201abbe033b8ba567f0"
       ],
       "layout": "IPY_MODEL_6c37f051dac54d5fb67043d34749e8a7"
      }
     },
     "718cfdc86cb148d58636dd344cbef8e1": {
      "model_module": "@jupyter-widgets/controls",
      "model_module_version": "1.5.0",
      "model_name": "ProgressStyleModel",
      "state": {
       "_model_module": "@jupyter-widgets/controls",
       "_model_module_version": "1.5.0",
       "_model_name": "ProgressStyleModel",
       "_view_count": null,
       "_view_module": "@jupyter-widgets/base",
       "_view_module_version": "1.2.0",
       "_view_name": "StyleView",
       "bar_color": null,
       "description_width": ""
      }
     },
     "7545396fa6064aee814a2586a1f6e1d6": {
      "model_module": "@jupyter-widgets/controls",
      "model_module_version": "1.5.0",
      "model_name": "FloatProgressModel",
      "state": {
       "_dom_classes": [],
       "_model_module": "@jupyter-widgets/controls",
       "_model_module_version": "1.5.0",
       "_model_name": "FloatProgressModel",
       "_view_count": null,
       "_view_module": "@jupyter-widgets/controls",
       "_view_module_version": "1.5.0",
       "_view_name": "ProgressView",
       "bar_style": "success",
       "description": "",
       "description_tooltip": null,
       "layout": "IPY_MODEL_05a46fd335e241f0b015ea1c78691884",
       "max": 1355256.0,
       "min": 0.0,
       "orientation": "horizontal",
       "style": "IPY_MODEL_d5da802f3d154bf5b2b772a771bf8d85",
       "value": 1355256.0
      }
     },
     "7d0d33b56b6c4f5dbf4b336cf6448493": {
      "model_module": "@jupyter-widgets/controls",
      "model_module_version": "1.5.0",
      "model_name": "ProgressStyleModel",
      "state": {
       "_model_module": "@jupyter-widgets/controls",
       "_model_module_version": "1.5.0",
       "_model_name": "ProgressStyleModel",
       "_view_count": null,
       "_view_module": "@jupyter-widgets/base",
       "_view_module_version": "1.2.0",
       "_view_name": "StyleView",
       "bar_color": null,
       "description_width": ""
      }
     },
     "80473c3ba8694f459ae2101344f2cf7f": {
      "model_module": "@jupyter-widgets/base",
      "model_module_version": "1.2.0",
      "model_name": "LayoutModel",
      "state": {
       "_model_module": "@jupyter-widgets/base",
       "_model_module_version": "1.2.0",
       "_model_name": "LayoutModel",
       "_view_count": null,
       "_view_module": "@jupyter-widgets/base",
       "_view_module_version": "1.2.0",
       "_view_name": "LayoutView",
       "align_content": null,
       "align_items": null,
       "align_self": null,
       "border": null,
       "bottom": null,
       "display": null,
       "flex": null,
       "flex_flow": null,
       "grid_area": null,
       "grid_auto_columns": null,
       "grid_auto_flow": null,
       "grid_auto_rows": null,
       "grid_column": null,
       "grid_gap": null,
       "grid_row": null,
       "grid_template_areas": null,
       "grid_template_columns": null,
       "grid_template_rows": null,
       "height": null,
       "justify_content": null,
       "justify_items": null,
       "left": null,
       "margin": null,
       "max_height": null,
       "max_width": null,
       "min_height": null,
       "min_width": null,
       "object_fit": null,
       "object_position": null,
       "order": null,
       "overflow": null,
       "overflow_x": null,
       "overflow_y": null,
       "padding": null,
       "right": null,
       "top": null,
       "visibility": null,
       "width": null
      }
     },
     "83b5325e7cc046baa0308a1831eec301": {
      "model_module": "@jupyter-widgets/controls",
      "model_module_version": "1.5.0",
      "model_name": "FloatProgressModel",
      "state": {
       "_dom_classes": [],
       "_model_module": "@jupyter-widgets/controls",
       "_model_module_version": "1.5.0",
       "_model_name": "FloatProgressModel",
       "_view_count": null,
       "_view_module": "@jupyter-widgets/controls",
       "_view_module_version": "1.5.0",
       "_view_name": "ProgressView",
       "bar_style": "success",
       "description": "",
       "description_tooltip": null,
       "layout": "IPY_MODEL_e4a8f2d73644442e82be640b8d3f1058",
       "max": 1842764.0,
       "min": 0.0,
       "orientation": "horizontal",
       "style": "IPY_MODEL_a71656300ab7414fbcd11efe7b62cd2a",
       "value": 1842764.0
      }
     },
     "85d13af96ae140b4a35fd92ea9054312": {
      "model_module": "@jupyter-widgets/controls",
      "model_module_version": "1.5.0",
      "model_name": "HBoxModel",
      "state": {
       "_dom_classes": [],
       "_model_module": "@jupyter-widgets/controls",
       "_model_module_version": "1.5.0",
       "_model_name": "HBoxModel",
       "_view_count": null,
       "_view_module": "@jupyter-widgets/controls",
       "_view_module_version": "1.5.0",
       "_view_name": "HBoxView",
       "box_style": "",
       "children": [
        "IPY_MODEL_42b38e5da4ca47dd87b4f2af770d351e",
        "IPY_MODEL_c3e1f9bb9132449d90bd879de0b139f5",
        "IPY_MODEL_585e6bd66358408ea96af33dbc6b4bd5"
       ],
       "layout": "IPY_MODEL_c4b538aa1151425f9a0ef9377272aa9d"
      }
     },
     "871ca38004c144a890d5ed4de548c029": {
      "model_module": "@jupyter-widgets/controls",
      "model_module_version": "1.5.0",
      "model_name": "ProgressStyleModel",
      "state": {
       "_model_module": "@jupyter-widgets/controls",
       "_model_module_version": "1.5.0",
       "_model_name": "ProgressStyleModel",
       "_view_count": null,
       "_view_module": "@jupyter-widgets/base",
       "_view_module_version": "1.2.0",
       "_view_name": "StyleView",
       "bar_color": null,
       "description_width": ""
      }
     },
     "888dbb7ddd4e424ea3d0336a40f23539": {
      "model_module": "@jupyter-widgets/controls",
      "model_module_version": "1.5.0",
      "model_name": "DescriptionStyleModel",
      "state": {
       "_model_module": "@jupyter-widgets/controls",
       "_model_module_version": "1.5.0",
       "_model_name": "DescriptionStyleModel",
       "_view_count": null,
       "_view_module": "@jupyter-widgets/base",
       "_view_module_version": "1.2.0",
       "_view_name": "StyleView",
       "description_width": ""
      }
     },
     "8b661328a8f74b2e931e823f849bdab5": {
      "model_module": "@jupyter-widgets/controls",
      "model_module_version": "1.5.0",
      "model_name": "DescriptionStyleModel",
      "state": {
       "_model_module": "@jupyter-widgets/controls",
       "_model_module_version": "1.5.0",
       "_model_name": "DescriptionStyleModel",
       "_view_count": null,
       "_view_module": "@jupyter-widgets/base",
       "_view_module_version": "1.2.0",
       "_view_name": "StyleView",
       "description_width": ""
      }
     },
     "8cb311d6604843598a84230087c3a12e": {
      "model_module": "@jupyter-widgets/controls",
      "model_module_version": "1.5.0",
      "model_name": "FloatProgressModel",
      "state": {
       "_dom_classes": [],
       "_model_module": "@jupyter-widgets/controls",
       "_model_module_version": "1.5.0",
       "_model_name": "FloatProgressModel",
       "_view_count": null,
       "_view_module": "@jupyter-widgets/controls",
       "_view_module_version": "1.5.0",
       "_view_name": "ProgressView",
       "bar_style": "success",
       "description": "",
       "description_tooltip": null,
       "layout": "IPY_MODEL_2652b9496fbe492ea24fc79ce82374e1",
       "max": 1042301.0,
       "min": 0.0,
       "orientation": "horizontal",
       "style": "IPY_MODEL_7d0d33b56b6c4f5dbf4b336cf6448493",
       "value": 1042301.0
      }
     },
     "92d2fb6fdae84ef1ab460982f5c0abbe": {
      "model_module": "@jupyter-widgets/controls",
      "model_module_version": "1.5.0",
      "model_name": "DescriptionStyleModel",
      "state": {
       "_model_module": "@jupyter-widgets/controls",
       "_model_module_version": "1.5.0",
       "_model_name": "DescriptionStyleModel",
       "_view_count": null,
       "_view_module": "@jupyter-widgets/base",
       "_view_module_version": "1.2.0",
       "_view_name": "StyleView",
       "description_width": ""
      }
     },
     "95df7911a16a4026900813f5d273c793": {
      "model_module": "@jupyter-widgets/base",
      "model_module_version": "1.2.0",
      "model_name": "LayoutModel",
      "state": {
       "_model_module": "@jupyter-widgets/base",
       "_model_module_version": "1.2.0",
       "_model_name": "LayoutModel",
       "_view_count": null,
       "_view_module": "@jupyter-widgets/base",
       "_view_module_version": "1.2.0",
       "_view_name": "LayoutView",
       "align_content": null,
       "align_items": null,
       "align_self": null,
       "border": null,
       "bottom": null,
       "display": null,
       "flex": null,
       "flex_flow": null,
       "grid_area": null,
       "grid_auto_columns": null,
       "grid_auto_flow": null,
       "grid_auto_rows": null,
       "grid_column": null,
       "grid_gap": null,
       "grid_row": null,
       "grid_template_areas": null,
       "grid_template_columns": null,
       "grid_template_rows": null,
       "height": null,
       "justify_content": null,
       "justify_items": null,
       "left": null,
       "margin": null,
       "max_height": null,
       "max_width": null,
       "min_height": null,
       "min_width": null,
       "object_fit": null,
       "object_position": null,
       "order": null,
       "overflow": null,
       "overflow_x": null,
       "overflow_y": null,
       "padding": null,
       "right": null,
       "top": null,
       "visibility": null,
       "width": null
      }
     },
     "97aebe7ba59442b3a8fec8e47d4d3bf4": {
      "model_module": "@jupyter-widgets/base",
      "model_module_version": "1.2.0",
      "model_name": "LayoutModel",
      "state": {
       "_model_module": "@jupyter-widgets/base",
       "_model_module_version": "1.2.0",
       "_model_name": "LayoutModel",
       "_view_count": null,
       "_view_module": "@jupyter-widgets/base",
       "_view_module_version": "1.2.0",
       "_view_name": "LayoutView",
       "align_content": null,
       "align_items": null,
       "align_self": null,
       "border": null,
       "bottom": null,
       "display": null,
       "flex": null,
       "flex_flow": null,
       "grid_area": null,
       "grid_auto_columns": null,
       "grid_auto_flow": null,
       "grid_auto_rows": null,
       "grid_column": null,
       "grid_gap": null,
       "grid_row": null,
       "grid_template_areas": null,
       "grid_template_columns": null,
       "grid_template_rows": null,
       "height": null,
       "justify_content": null,
       "justify_items": null,
       "left": null,
       "margin": null,
       "max_height": null,
       "max_width": null,
       "min_height": null,
       "min_width": null,
       "object_fit": null,
       "object_position": null,
       "order": null,
       "overflow": null,
       "overflow_x": null,
       "overflow_y": null,
       "padding": null,
       "right": null,
       "top": null,
       "visibility": null,
       "width": null
      }
     },
     "98c69e8b281e4b43adfaeed4f5c815c7": {
      "model_module": "@jupyter-widgets/controls",
      "model_module_version": "1.5.0",
      "model_name": "DescriptionStyleModel",
      "state": {
       "_model_module": "@jupyter-widgets/controls",
       "_model_module_version": "1.5.0",
       "_model_name": "DescriptionStyleModel",
       "_view_count": null,
       "_view_module": "@jupyter-widgets/base",
       "_view_module_version": "1.2.0",
       "_view_name": "StyleView",
       "description_width": ""
      }
     },
     "99516f6199fb4a48bf6415c093ec371b": {
      "model_module": "@jupyter-widgets/controls",
      "model_module_version": "1.5.0",
      "model_name": "DescriptionStyleModel",
      "state": {
       "_model_module": "@jupyter-widgets/controls",
       "_model_module_version": "1.5.0",
       "_model_name": "DescriptionStyleModel",
       "_view_count": null,
       "_view_module": "@jupyter-widgets/base",
       "_view_module_version": "1.2.0",
       "_view_name": "StyleView",
       "description_width": ""
      }
     },
     "9ba8151344cd4888a7b153ec07db589d": {
      "model_module": "@jupyter-widgets/base",
      "model_module_version": "1.2.0",
      "model_name": "LayoutModel",
      "state": {
       "_model_module": "@jupyter-widgets/base",
       "_model_module_version": "1.2.0",
       "_model_name": "LayoutModel",
       "_view_count": null,
       "_view_module": "@jupyter-widgets/base",
       "_view_module_version": "1.2.0",
       "_view_name": "LayoutView",
       "align_content": null,
       "align_items": null,
       "align_self": null,
       "border": null,
       "bottom": null,
       "display": null,
       "flex": null,
       "flex_flow": null,
       "grid_area": null,
       "grid_auto_columns": null,
       "grid_auto_flow": null,
       "grid_auto_rows": null,
       "grid_column": null,
       "grid_gap": null,
       "grid_row": null,
       "grid_template_areas": null,
       "grid_template_columns": null,
       "grid_template_rows": null,
       "height": null,
       "justify_content": null,
       "justify_items": null,
       "left": null,
       "margin": null,
       "max_height": null,
       "max_width": null,
       "min_height": null,
       "min_width": null,
       "object_fit": null,
       "object_position": null,
       "order": null,
       "overflow": null,
       "overflow_x": null,
       "overflow_y": null,
       "padding": null,
       "right": null,
       "top": null,
       "visibility": null,
       "width": null
      }
     },
     "a0002f1ff4124c8fa2ce0de1d62be8ae": {
      "model_module": "@jupyter-widgets/controls",
      "model_module_version": "1.5.0",
      "model_name": "DescriptionStyleModel",
      "state": {
       "_model_module": "@jupyter-widgets/controls",
       "_model_module_version": "1.5.0",
       "_model_name": "DescriptionStyleModel",
       "_view_count": null,
       "_view_module": "@jupyter-widgets/base",
       "_view_module_version": "1.2.0",
       "_view_name": "StyleView",
       "description_width": ""
      }
     },
     "a041f9170d7843a4bf8d3a7f13edd31f": {
      "model_module": "@jupyter-widgets/controls",
      "model_module_version": "1.5.0",
      "model_name": "HTMLModel",
      "state": {
       "_dom_classes": [],
       "_model_module": "@jupyter-widgets/controls",
       "_model_module_version": "1.5.0",
       "_model_name": "HTMLModel",
       "_view_count": null,
       "_view_module": "@jupyter-widgets/controls",
       "_view_module_version": "1.5.0",
       "_view_name": "HTMLView",
       "description": "",
       "description_tooltip": null,
       "layout": "IPY_MODEL_bd294a5ce79447638e2b5764b948189e",
       "placeholder": "​",
       "style": "IPY_MODEL_8b661328a8f74b2e931e823f849bdab5",
       "value": "Downloading tokenizer.model: 100%"
      }
     },
     "a233fcc4b8274c588c4b8c05df3d756f": {
      "model_module": "@jupyter-widgets/base",
      "model_module_version": "1.2.0",
      "model_name": "LayoutModel",
      "state": {
       "_model_module": "@jupyter-widgets/base",
       "_model_module_version": "1.2.0",
       "_model_name": "LayoutModel",
       "_view_count": null,
       "_view_module": "@jupyter-widgets/base",
       "_view_module_version": "1.2.0",
       "_view_name": "LayoutView",
       "align_content": null,
       "align_items": null,
       "align_self": null,
       "border": null,
       "bottom": null,
       "display": null,
       "flex": null,
       "flex_flow": null,
       "grid_area": null,
       "grid_auto_columns": null,
       "grid_auto_flow": null,
       "grid_auto_rows": null,
       "grid_column": null,
       "grid_gap": null,
       "grid_row": null,
       "grid_template_areas": null,
       "grid_template_columns": null,
       "grid_template_rows": null,
       "height": null,
       "justify_content": null,
       "justify_items": null,
       "left": null,
       "margin": null,
       "max_height": null,
       "max_width": null,
       "min_height": null,
       "min_width": null,
       "object_fit": null,
       "object_position": null,
       "order": null,
       "overflow": null,
       "overflow_x": null,
       "overflow_y": null,
       "padding": null,
       "right": null,
       "top": null,
       "visibility": null,
       "width": null
      }
     },
     "a346ef479f0f49c8967ecbc3a347f22e": {
      "model_module": "@jupyter-widgets/controls",
      "model_module_version": "1.5.0",
      "model_name": "HTMLModel",
      "state": {
       "_dom_classes": [],
       "_model_module": "@jupyter-widgets/controls",
       "_model_module_version": "1.5.0",
       "_model_name": "HTMLModel",
       "_view_count": null,
       "_view_module": "@jupyter-widgets/controls",
       "_view_module_version": "1.5.0",
       "_view_name": "HTMLView",
       "description": "",
       "description_tooltip": null,
       "layout": "IPY_MODEL_3adaa9edaca64af2951f4d15a2fcd1c4",
       "placeholder": "​",
       "style": "IPY_MODEL_fdd2029be33f47f697b0e6781660713f",
       "value": " 3.90G/3.90G [03:06&lt;00:00, 21.4MB/s]"
      }
     },
     "a3574b5cb73e4309b8dfdebd508e06a6": {
      "model_module": "@jupyter-widgets/controls",
      "model_module_version": "1.5.0",
      "model_name": "HBoxModel",
      "state": {
       "_dom_classes": [],
       "_model_module": "@jupyter-widgets/controls",
       "_model_module_version": "1.5.0",
       "_model_name": "HBoxModel",
       "_view_count": null,
       "_view_module": "@jupyter-widgets/controls",
       "_view_module_version": "1.5.0",
       "_view_name": "HBoxView",
       "box_style": "",
       "children": [
        "IPY_MODEL_19ca11f9ea1b4f23ab5e00262bb9aee8",
        "IPY_MODEL_5c043600a639434db1195c2218d0ba0d",
        "IPY_MODEL_c2982fa9e4c5436c824e9250a588051a"
       ],
       "layout": "IPY_MODEL_503cb577a39e478bb80d4cfd8d3e7644"
      }
     },
     "a41ecac0a843436088842a3d5f8d3843": {
      "model_module": "@jupyter-widgets/base",
      "model_module_version": "1.2.0",
      "model_name": "LayoutModel",
      "state": {
       "_model_module": "@jupyter-widgets/base",
       "_model_module_version": "1.2.0",
       "_model_name": "LayoutModel",
       "_view_count": null,
       "_view_module": "@jupyter-widgets/base",
       "_view_module_version": "1.2.0",
       "_view_name": "LayoutView",
       "align_content": null,
       "align_items": null,
       "align_self": null,
       "border": null,
       "bottom": null,
       "display": null,
       "flex": null,
       "flex_flow": null,
       "grid_area": null,
       "grid_auto_columns": null,
       "grid_auto_flow": null,
       "grid_auto_rows": null,
       "grid_column": null,
       "grid_gap": null,
       "grid_row": null,
       "grid_template_areas": null,
       "grid_template_columns": null,
       "grid_template_rows": null,
       "height": null,
       "justify_content": null,
       "justify_items": null,
       "left": null,
       "margin": null,
       "max_height": null,
       "max_width": null,
       "min_height": null,
       "min_width": null,
       "object_fit": null,
       "object_position": null,
       "order": null,
       "overflow": null,
       "overflow_x": null,
       "overflow_y": null,
       "padding": null,
       "right": null,
       "top": null,
       "visibility": null,
       "width": null
      }
     },
     "a71656300ab7414fbcd11efe7b62cd2a": {
      "model_module": "@jupyter-widgets/controls",
      "model_module_version": "1.5.0",
      "model_name": "ProgressStyleModel",
      "state": {
       "_model_module": "@jupyter-widgets/controls",
       "_model_module_version": "1.5.0",
       "_model_name": "ProgressStyleModel",
       "_view_count": null,
       "_view_module": "@jupyter-widgets/base",
       "_view_module_version": "1.2.0",
       "_view_name": "StyleView",
       "bar_color": null,
       "description_width": ""
      }
     },
     "a78c1982eb464538a94ce1bbe2c4a46b": {
      "model_module": "@jupyter-widgets/controls",
      "model_module_version": "1.5.0",
      "model_name": "HTMLModel",
      "state": {
       "_dom_classes": [],
       "_model_module": "@jupyter-widgets/controls",
       "_model_module_version": "1.5.0",
       "_model_name": "HTMLModel",
       "_view_count": null,
       "_view_module": "@jupyter-widgets/controls",
       "_view_module_version": "1.5.0",
       "_view_name": "HTMLView",
       "description": "",
       "description_tooltip": null,
       "layout": "IPY_MODEL_61c0c6dbc0b94949bfed139bab38efad",
       "placeholder": "​",
       "style": "IPY_MODEL_e26197b61da94b7d8d1ad9fc2fa198b3",
       "value": "Downloading vocab.json: 100%"
      }
     },
     "b20812f9c49841878a4a33be89a3aa2e": {
      "model_module": "@jupyter-widgets/base",
      "model_module_version": "1.2.0",
      "model_name": "LayoutModel",
      "state": {
       "_model_module": "@jupyter-widgets/base",
       "_model_module_version": "1.2.0",
       "_model_name": "LayoutModel",
       "_view_count": null,
       "_view_module": "@jupyter-widgets/base",
       "_view_module_version": "1.2.0",
       "_view_name": "LayoutView",
       "align_content": null,
       "align_items": null,
       "align_self": null,
       "border": null,
       "bottom": null,
       "display": null,
       "flex": null,
       "flex_flow": null,
       "grid_area": null,
       "grid_auto_columns": null,
       "grid_auto_flow": null,
       "grid_auto_rows": null,
       "grid_column": null,
       "grid_gap": null,
       "grid_row": null,
       "grid_template_areas": null,
       "grid_template_columns": null,
       "grid_template_rows": null,
       "height": null,
       "justify_content": null,
       "justify_items": null,
       "left": null,
       "margin": null,
       "max_height": null,
       "max_width": null,
       "min_height": null,
       "min_width": null,
       "object_fit": null,
       "object_position": null,
       "order": null,
       "overflow": null,
       "overflow_x": null,
       "overflow_y": null,
       "padding": null,
       "right": null,
       "top": null,
       "visibility": null,
       "width": null
      }
     },
     "b8948885f38942008b1912152000fbc8": {
      "model_module": "@jupyter-widgets/controls",
      "model_module_version": "1.5.0",
      "model_name": "HTMLModel",
      "state": {
       "_dom_classes": [],
       "_model_module": "@jupyter-widgets/controls",
       "_model_module_version": "1.5.0",
       "_model_name": "HTMLModel",
       "_view_count": null,
       "_view_module": "@jupyter-widgets/controls",
       "_view_module_version": "1.5.0",
       "_view_name": "HTMLView",
       "description": "",
       "description_tooltip": null,
       "layout": "IPY_MODEL_70c0f94ee19b44199435e2d9bb186760",
       "placeholder": "​",
       "style": "IPY_MODEL_0f76ab81332c402f8736538f56708533",
       "value": "Downloading tokenizer.json: 100%"
      }
     },
     "b8d4795b2c4a449bb29b8851381a44b1": {
      "model_module": "@jupyter-widgets/base",
      "model_module_version": "1.2.0",
      "model_name": "LayoutModel",
      "state": {
       "_model_module": "@jupyter-widgets/base",
       "_model_module_version": "1.2.0",
       "_model_name": "LayoutModel",
       "_view_count": null,
       "_view_module": "@jupyter-widgets/base",
       "_view_module_version": "1.2.0",
       "_view_name": "LayoutView",
       "align_content": null,
       "align_items": null,
       "align_self": null,
       "border": null,
       "bottom": null,
       "display": null,
       "flex": null,
       "flex_flow": null,
       "grid_area": null,
       "grid_auto_columns": null,
       "grid_auto_flow": null,
       "grid_auto_rows": null,
       "grid_column": null,
       "grid_gap": null,
       "grid_row": null,
       "grid_template_areas": null,
       "grid_template_columns": null,
       "grid_template_rows": null,
       "height": null,
       "justify_content": null,
       "justify_items": null,
       "left": null,
       "margin": null,
       "max_height": null,
       "max_width": null,
       "min_height": null,
       "min_width": null,
       "object_fit": null,
       "object_position": null,
       "order": null,
       "overflow": null,
       "overflow_x": null,
       "overflow_y": null,
       "padding": null,
       "right": null,
       "top": null,
       "visibility": null,
       "width": null
      }
     },
     "ba59e3837cf3470ba0d9ec850928a144": {
      "model_module": "@jupyter-widgets/controls",
      "model_module_version": "1.5.0",
      "model_name": "HTMLModel",
      "state": {
       "_dom_classes": [],
       "_model_module": "@jupyter-widgets/controls",
       "_model_module_version": "1.5.0",
       "_model_name": "HTMLModel",
       "_view_count": null,
       "_view_module": "@jupyter-widgets/controls",
       "_view_module_version": "1.5.0",
       "_view_name": "HTMLView",
       "description": "",
       "description_tooltip": null,
       "layout": "IPY_MODEL_80473c3ba8694f459ae2101344f2cf7f",
       "placeholder": "​",
       "style": "IPY_MODEL_99516f6199fb4a48bf6415c093ec371b",
       "value": "Downloading (…)cial_tokens_map.json: 100%"
      }
     },
     "bd294a5ce79447638e2b5764b948189e": {
      "model_module": "@jupyter-widgets/base",
      "model_module_version": "1.2.0",
      "model_name": "LayoutModel",
      "state": {
       "_model_module": "@jupyter-widgets/base",
       "_model_module_version": "1.2.0",
       "_model_name": "LayoutModel",
       "_view_count": null,
       "_view_module": "@jupyter-widgets/base",
       "_view_module_version": "1.2.0",
       "_view_name": "LayoutView",
       "align_content": null,
       "align_items": null,
       "align_self": null,
       "border": null,
       "bottom": null,
       "display": null,
       "flex": null,
       "flex_flow": null,
       "grid_area": null,
       "grid_auto_columns": null,
       "grid_auto_flow": null,
       "grid_auto_rows": null,
       "grid_column": null,
       "grid_gap": null,
       "grid_row": null,
       "grid_template_areas": null,
       "grid_template_columns": null,
       "grid_template_rows": null,
       "height": null,
       "justify_content": null,
       "justify_items": null,
       "left": null,
       "margin": null,
       "max_height": null,
       "max_width": null,
       "min_height": null,
       "min_width": null,
       "object_fit": null,
       "object_position": null,
       "order": null,
       "overflow": null,
       "overflow_x": null,
       "overflow_y": null,
       "padding": null,
       "right": null,
       "top": null,
       "visibility": null,
       "width": null
      }
     },
     "bdc6e49bad6f4727ae62a89297d65a7e": {
      "model_module": "@jupyter-widgets/base",
      "model_module_version": "1.2.0",
      "model_name": "LayoutModel",
      "state": {
       "_model_module": "@jupyter-widgets/base",
       "_model_module_version": "1.2.0",
       "_model_name": "LayoutModel",
       "_view_count": null,
       "_view_module": "@jupyter-widgets/base",
       "_view_module_version": "1.2.0",
       "_view_name": "LayoutView",
       "align_content": null,
       "align_items": null,
       "align_self": null,
       "border": null,
       "bottom": null,
       "display": null,
       "flex": null,
       "flex_flow": null,
       "grid_area": null,
       "grid_auto_columns": null,
       "grid_auto_flow": null,
       "grid_auto_rows": null,
       "grid_column": null,
       "grid_gap": null,
       "grid_row": null,
       "grid_template_areas": null,
       "grid_template_columns": null,
       "grid_template_rows": null,
       "height": null,
       "justify_content": null,
       "justify_items": null,
       "left": null,
       "margin": null,
       "max_height": null,
       "max_width": null,
       "min_height": null,
       "min_width": null,
       "object_fit": null,
       "object_position": null,
       "order": null,
       "overflow": null,
       "overflow_x": null,
       "overflow_y": null,
       "padding": null,
       "right": null,
       "top": null,
       "visibility": null,
       "width": null
      }
     },
     "bf061160fdee4b3d92b2369b26f7fc05": {
      "model_module": "@jupyter-widgets/controls",
      "model_module_version": "1.5.0",
      "model_name": "DescriptionStyleModel",
      "state": {
       "_model_module": "@jupyter-widgets/controls",
       "_model_module_version": "1.5.0",
       "_model_name": "DescriptionStyleModel",
       "_view_count": null,
       "_view_module": "@jupyter-widgets/base",
       "_view_module_version": "1.2.0",
       "_view_name": "StyleView",
       "description_width": ""
      }
     },
     "c1337305a0f4473d96b2847d747e92e7": {
      "model_module": "@jupyter-widgets/controls",
      "model_module_version": "1.5.0",
      "model_name": "DescriptionStyleModel",
      "state": {
       "_model_module": "@jupyter-widgets/controls",
       "_model_module_version": "1.5.0",
       "_model_name": "DescriptionStyleModel",
       "_view_count": null,
       "_view_module": "@jupyter-widgets/base",
       "_view_module_version": "1.2.0",
       "_view_name": "StyleView",
       "description_width": ""
      }
     },
     "c2982fa9e4c5436c824e9250a588051a": {
      "model_module": "@jupyter-widgets/controls",
      "model_module_version": "1.5.0",
      "model_name": "HTMLModel",
      "state": {
       "_dom_classes": [],
       "_model_module": "@jupyter-widgets/controls",
       "_model_module_version": "1.5.0",
       "_model_name": "HTMLModel",
       "_view_count": null,
       "_view_module": "@jupyter-widgets/controls",
       "_view_module_version": "1.5.0",
       "_view_name": "HTMLView",
       "description": "",
       "description_tooltip": null,
       "layout": "IPY_MODEL_e9330a8ee3e34bb8a511cb67f11e7d95",
       "placeholder": "​",
       "style": "IPY_MODEL_2b24fb9899494ab187aee2efa247c05c",
       "value": " 789/789 [00:00&lt;00:00, 66.3kB/s]"
      }
     },
     "c3e1f9bb9132449d90bd879de0b139f5": {
      "model_module": "@jupyter-widgets/controls",
      "model_module_version": "1.5.0",
      "model_name": "FloatProgressModel",
      "state": {
       "_dom_classes": [],
       "_model_module": "@jupyter-widgets/controls",
       "_model_module_version": "1.5.0",
       "_model_name": "FloatProgressModel",
       "_view_count": null,
       "_view_module": "@jupyter-widgets/controls",
       "_view_module_version": "1.5.0",
       "_view_name": "ProgressView",
       "bar_style": "success",
       "description": "",
       "description_tooltip": null,
       "layout": "IPY_MODEL_42660ea33ee7448d8d466e9f4eafd2db",
       "max": 456318.0,
       "min": 0.0,
       "orientation": "horizontal",
       "style": "IPY_MODEL_d9ad014aef84496eaf18fff733678c59",
       "value": 456318.0
      }
     },
     "c4b538aa1151425f9a0ef9377272aa9d": {
      "model_module": "@jupyter-widgets/base",
      "model_module_version": "1.2.0",
      "model_name": "LayoutModel",
      "state": {
       "_model_module": "@jupyter-widgets/base",
       "_model_module_version": "1.2.0",
       "_model_name": "LayoutModel",
       "_view_count": null,
       "_view_module": "@jupyter-widgets/base",
       "_view_module_version": "1.2.0",
       "_view_name": "LayoutView",
       "align_content": null,
       "align_items": null,
       "align_self": null,
       "border": null,
       "bottom": null,
       "display": null,
       "flex": null,
       "flex_flow": null,
       "grid_area": null,
       "grid_auto_columns": null,
       "grid_auto_flow": null,
       "grid_auto_rows": null,
       "grid_column": null,
       "grid_gap": null,
       "grid_row": null,
       "grid_template_areas": null,
       "grid_template_columns": null,
       "grid_template_rows": null,
       "height": null,
       "justify_content": null,
       "justify_items": null,
       "left": null,
       "margin": null,
       "max_height": null,
       "max_width": null,
       "min_height": null,
       "min_width": null,
       "object_fit": null,
       "object_position": null,
       "order": null,
       "overflow": null,
       "overflow_x": null,
       "overflow_y": null,
       "padding": null,
       "right": null,
       "top": null,
       "visibility": null,
       "width": null
      }
     },
     "c5df04b3b8fd4e999397c82e48380387": {
      "model_module": "@jupyter-widgets/controls",
      "model_module_version": "1.5.0",
      "model_name": "ProgressStyleModel",
      "state": {
       "_model_module": "@jupyter-widgets/controls",
       "_model_module_version": "1.5.0",
       "_model_name": "ProgressStyleModel",
       "_view_count": null,
       "_view_module": "@jupyter-widgets/base",
       "_view_module_version": "1.2.0",
       "_view_name": "StyleView",
       "bar_color": null,
       "description_width": ""
      }
     },
     "c6abeab98cfd4d70bcee164df55072f6": {
      "model_module": "@jupyter-widgets/base",
      "model_module_version": "1.2.0",
      "model_name": "LayoutModel",
      "state": {
       "_model_module": "@jupyter-widgets/base",
       "_model_module_version": "1.2.0",
       "_model_name": "LayoutModel",
       "_view_count": null,
       "_view_module": "@jupyter-widgets/base",
       "_view_module_version": "1.2.0",
       "_view_name": "LayoutView",
       "align_content": null,
       "align_items": null,
       "align_self": null,
       "border": null,
       "bottom": null,
       "display": null,
       "flex": null,
       "flex_flow": null,
       "grid_area": null,
       "grid_auto_columns": null,
       "grid_auto_flow": null,
       "grid_auto_rows": null,
       "grid_column": null,
       "grid_gap": null,
       "grid_row": null,
       "grid_template_areas": null,
       "grid_template_columns": null,
       "grid_template_rows": null,
       "height": null,
       "justify_content": null,
       "justify_items": null,
       "left": null,
       "margin": null,
       "max_height": null,
       "max_width": null,
       "min_height": null,
       "min_width": null,
       "object_fit": null,
       "object_position": null,
       "order": null,
       "overflow": null,
       "overflow_x": null,
       "overflow_y": null,
       "padding": null,
       "right": null,
       "top": null,
       "visibility": null,
       "width": null
      }
     },
     "c8b7c46748ee4caca56ba6b51c24c8d6": {
      "model_module": "@jupyter-widgets/base",
      "model_module_version": "1.2.0",
      "model_name": "LayoutModel",
      "state": {
       "_model_module": "@jupyter-widgets/base",
       "_model_module_version": "1.2.0",
       "_model_name": "LayoutModel",
       "_view_count": null,
       "_view_module": "@jupyter-widgets/base",
       "_view_module_version": "1.2.0",
       "_view_name": "LayoutView",
       "align_content": null,
       "align_items": null,
       "align_self": null,
       "border": null,
       "bottom": null,
       "display": null,
       "flex": null,
       "flex_flow": null,
       "grid_area": null,
       "grid_auto_columns": null,
       "grid_auto_flow": null,
       "grid_auto_rows": null,
       "grid_column": null,
       "grid_gap": null,
       "grid_row": null,
       "grid_template_areas": null,
       "grid_template_columns": null,
       "grid_template_rows": null,
       "height": null,
       "justify_content": null,
       "justify_items": null,
       "left": null,
       "margin": null,
       "max_height": null,
       "max_width": null,
       "min_height": null,
       "min_width": null,
       "object_fit": null,
       "object_position": null,
       "order": null,
       "overflow": null,
       "overflow_x": null,
       "overflow_y": null,
       "padding": null,
       "right": null,
       "top": null,
       "visibility": null,
       "width": null
      }
     },
     "ccd9b06441a64aee9d6d09ce453345b4": {
      "model_module": "@jupyter-widgets/controls",
      "model_module_version": "1.5.0",
      "model_name": "HTMLModel",
      "state": {
       "_dom_classes": [],
       "_model_module": "@jupyter-widgets/controls",
       "_model_module_version": "1.5.0",
       "_model_name": "HTMLModel",
       "_view_count": null,
       "_view_module": "@jupyter-widgets/controls",
       "_view_module_version": "1.5.0",
       "_view_name": "HTMLView",
       "description": "",
       "description_tooltip": null,
       "layout": "IPY_MODEL_4ff436b47f0c4d9a8092acd9e6778e93",
       "placeholder": "​",
       "style": "IPY_MODEL_a0002f1ff4124c8fa2ce0de1d62be8ae",
       "value": " 1.36M/1.36M [00:00&lt;00:00, 6.98MB/s]"
      }
     },
     "d1132420a48e47a28e343e63699718b7": {
      "model_module": "@jupyter-widgets/base",
      "model_module_version": "1.2.0",
      "model_name": "LayoutModel",
      "state": {
       "_model_module": "@jupyter-widgets/base",
       "_model_module_version": "1.2.0",
       "_model_name": "LayoutModel",
       "_view_count": null,
       "_view_module": "@jupyter-widgets/base",
       "_view_module_version": "1.2.0",
       "_view_name": "LayoutView",
       "align_content": null,
       "align_items": null,
       "align_self": null,
       "border": null,
       "bottom": null,
       "display": null,
       "flex": null,
       "flex_flow": null,
       "grid_area": null,
       "grid_auto_columns": null,
       "grid_auto_flow": null,
       "grid_auto_rows": null,
       "grid_column": null,
       "grid_gap": null,
       "grid_row": null,
       "grid_template_areas": null,
       "grid_template_columns": null,
       "grid_template_rows": null,
       "height": null,
       "justify_content": null,
       "justify_items": null,
       "left": null,
       "margin": null,
       "max_height": null,
       "max_width": null,
       "min_height": null,
       "min_width": null,
       "object_fit": null,
       "object_position": null,
       "order": null,
       "overflow": null,
       "overflow_x": null,
       "overflow_y": null,
       "padding": null,
       "right": null,
       "top": null,
       "visibility": null,
       "width": null
      }
     },
     "d18ac09d4e864f22b584fa738dea029b": {
      "model_module": "@jupyter-widgets/base",
      "model_module_version": "1.2.0",
      "model_name": "LayoutModel",
      "state": {
       "_model_module": "@jupyter-widgets/base",
       "_model_module_version": "1.2.0",
       "_model_name": "LayoutModel",
       "_view_count": null,
       "_view_module": "@jupyter-widgets/base",
       "_view_module_version": "1.2.0",
       "_view_name": "LayoutView",
       "align_content": null,
       "align_items": null,
       "align_self": null,
       "border": null,
       "bottom": null,
       "display": null,
       "flex": null,
       "flex_flow": null,
       "grid_area": null,
       "grid_auto_columns": null,
       "grid_auto_flow": null,
       "grid_auto_rows": null,
       "grid_column": null,
       "grid_gap": null,
       "grid_row": null,
       "grid_template_areas": null,
       "grid_template_columns": null,
       "grid_template_rows": null,
       "height": null,
       "justify_content": null,
       "justify_items": null,
       "left": null,
       "margin": null,
       "max_height": null,
       "max_width": null,
       "min_height": null,
       "min_width": null,
       "object_fit": null,
       "object_position": null,
       "order": null,
       "overflow": null,
       "overflow_x": null,
       "overflow_y": null,
       "padding": null,
       "right": null,
       "top": null,
       "visibility": null,
       "width": null
      }
     },
     "d20a43b0f8c340d7904fe3e4bb85e1d1": {
      "model_module": "@jupyter-widgets/base",
      "model_module_version": "1.2.0",
      "model_name": "LayoutModel",
      "state": {
       "_model_module": "@jupyter-widgets/base",
       "_model_module_version": "1.2.0",
       "_model_name": "LayoutModel",
       "_view_count": null,
       "_view_module": "@jupyter-widgets/base",
       "_view_module_version": "1.2.0",
       "_view_name": "LayoutView",
       "align_content": null,
       "align_items": null,
       "align_self": null,
       "border": null,
       "bottom": null,
       "display": null,
       "flex": null,
       "flex_flow": null,
       "grid_area": null,
       "grid_auto_columns": null,
       "grid_auto_flow": null,
       "grid_auto_rows": null,
       "grid_column": null,
       "grid_gap": null,
       "grid_row": null,
       "grid_template_areas": null,
       "grid_template_columns": null,
       "grid_template_rows": null,
       "height": null,
       "justify_content": null,
       "justify_items": null,
       "left": null,
       "margin": null,
       "max_height": null,
       "max_width": null,
       "min_height": null,
       "min_width": null,
       "object_fit": null,
       "object_position": null,
       "order": null,
       "overflow": null,
       "overflow_x": null,
       "overflow_y": null,
       "padding": null,
       "right": null,
       "top": null,
       "visibility": null,
       "width": null
      }
     },
     "d2abad12c4b54316bc1c97866a77be42": {
      "model_module": "@jupyter-widgets/controls",
      "model_module_version": "1.5.0",
      "model_name": "HBoxModel",
      "state": {
       "_dom_classes": [],
       "_model_module": "@jupyter-widgets/controls",
       "_model_module_version": "1.5.0",
       "_model_name": "HBoxModel",
       "_view_count": null,
       "_view_module": "@jupyter-widgets/controls",
       "_view_module_version": "1.5.0",
       "_view_name": "HBoxView",
       "box_style": "",
       "children": [
        "IPY_MODEL_ba59e3837cf3470ba0d9ec850928a144",
        "IPY_MODEL_3db034b0e6e04e13bf103627cedd73b4",
        "IPY_MODEL_45240e34edad47c9b938ccaced38170f"
       ],
       "layout": "IPY_MODEL_4f0b8c84288d453f8f503b27314d5d00"
      }
     },
     "d5da802f3d154bf5b2b772a771bf8d85": {
      "model_module": "@jupyter-widgets/controls",
      "model_module_version": "1.5.0",
      "model_name": "ProgressStyleModel",
      "state": {
       "_model_module": "@jupyter-widgets/controls",
       "_model_module_version": "1.5.0",
       "_model_name": "ProgressStyleModel",
       "_view_count": null,
       "_view_module": "@jupyter-widgets/base",
       "_view_module_version": "1.2.0",
       "_view_name": "StyleView",
       "bar_color": null,
       "description_width": ""
      }
     },
     "d70862d42f074032ac84ce2ed2e42e93": {
      "model_module": "@jupyter-widgets/controls",
      "model_module_version": "1.5.0",
      "model_name": "HTMLModel",
      "state": {
       "_dom_classes": [],
       "_model_module": "@jupyter-widgets/controls",
       "_model_module_version": "1.5.0",
       "_model_name": "HTMLModel",
       "_view_count": null,
       "_view_module": "@jupyter-widgets/controls",
       "_view_module_version": "1.5.0",
       "_view_name": "HTMLView",
       "description": "",
       "description_tooltip": null,
       "layout": "IPY_MODEL_b8d4795b2c4a449bb29b8851381a44b1",
       "placeholder": "​",
       "style": "IPY_MODEL_5e8b5f7ac1734187860c7ed78fe4c595",
       "value": " 1.84M/1.84M [00:00&lt;00:00, 9.30MB/s]"
      }
     },
     "d9ad014aef84496eaf18fff733678c59": {
      "model_module": "@jupyter-widgets/controls",
      "model_module_version": "1.5.0",
      "model_name": "ProgressStyleModel",
      "state": {
       "_model_module": "@jupyter-widgets/controls",
       "_model_module_version": "1.5.0",
       "_model_name": "ProgressStyleModel",
       "_view_count": null,
       "_view_module": "@jupyter-widgets/base",
       "_view_module_version": "1.2.0",
       "_view_name": "StyleView",
       "bar_color": null,
       "description_width": ""
      }
     },
     "ddf74afc94de439cb2ed49c07060e5ba": {
      "model_module": "@jupyter-widgets/controls",
      "model_module_version": "1.5.0",
      "model_name": "ProgressStyleModel",
      "state": {
       "_model_module": "@jupyter-widgets/controls",
       "_model_module_version": "1.5.0",
       "_model_name": "ProgressStyleModel",
       "_view_count": null,
       "_view_module": "@jupyter-widgets/base",
       "_view_module_version": "1.2.0",
       "_view_name": "StyleView",
       "bar_color": null,
       "description_width": ""
      }
     },
     "dfb292b607c4489cbd8e2667a9eb4191": {
      "model_module": "@jupyter-widgets/controls",
      "model_module_version": "1.5.0",
      "model_name": "DescriptionStyleModel",
      "state": {
       "_model_module": "@jupyter-widgets/controls",
       "_model_module_version": "1.5.0",
       "_model_name": "DescriptionStyleModel",
       "_view_count": null,
       "_view_module": "@jupyter-widgets/base",
       "_view_module_version": "1.2.0",
       "_view_name": "StyleView",
       "description_width": ""
      }
     },
     "e049a09db5794b7884c335dcf8e748f9": {
      "model_module": "@jupyter-widgets/controls",
      "model_module_version": "1.5.0",
      "model_name": "HBoxModel",
      "state": {
       "_dom_classes": [],
       "_model_module": "@jupyter-widgets/controls",
       "_model_module_version": "1.5.0",
       "_model_name": "HBoxModel",
       "_view_count": null,
       "_view_module": "@jupyter-widgets/controls",
       "_view_module_version": "1.5.0",
       "_view_name": "HBoxView",
       "box_style": "",
       "children": [
        "IPY_MODEL_266a962705b940afb6b9ab6c58dd9fb5",
        "IPY_MODEL_60297d568a9b4666b724c890d96777fa",
        "IPY_MODEL_14dfbb0b1c934735946fb6ce00c1788f"
       ],
       "layout": "IPY_MODEL_463eec1b2e3b4d45800c2a37fb652afe"
      }
     },
     "e25210e63c80464ba6979190103279dd": {
      "model_module": "@jupyter-widgets/controls",
      "model_module_version": "1.5.0",
      "model_name": "FloatProgressModel",
      "state": {
       "_dom_classes": [],
       "_model_module": "@jupyter-widgets/controls",
       "_model_module_version": "1.5.0",
       "_model_name": "FloatProgressModel",
       "_view_count": null,
       "_view_module": "@jupyter-widgets/controls",
       "_view_module_version": "1.5.0",
       "_view_name": "ProgressView",
       "bar_style": "success",
       "description": "",
       "description_tooltip": null,
       "layout": "IPY_MODEL_bdc6e49bad6f4727ae62a89297d65a7e",
       "max": 499723.0,
       "min": 0.0,
       "orientation": "horizontal",
       "style": "IPY_MODEL_56eb1f2a8600418287bfde13ebb9ca3a",
       "value": 499723.0
      }
     },
     "e26197b61da94b7d8d1ad9fc2fa198b3": {
      "model_module": "@jupyter-widgets/controls",
      "model_module_version": "1.5.0",
      "model_name": "DescriptionStyleModel",
      "state": {
       "_model_module": "@jupyter-widgets/controls",
       "_model_module_version": "1.5.0",
       "_model_name": "DescriptionStyleModel",
       "_view_count": null,
       "_view_module": "@jupyter-widgets/base",
       "_view_module_version": "1.2.0",
       "_view_name": "StyleView",
       "description_width": ""
      }
     },
     "e2d1c28f6dd94e2d83e77c03079e1307": {
      "model_module": "@jupyter-widgets/controls",
      "model_module_version": "1.5.0",
      "model_name": "DescriptionStyleModel",
      "state": {
       "_model_module": "@jupyter-widgets/controls",
       "_model_module_version": "1.5.0",
       "_model_name": "DescriptionStyleModel",
       "_view_count": null,
       "_view_module": "@jupyter-widgets/base",
       "_view_module_version": "1.2.0",
       "_view_name": "StyleView",
       "description_width": ""
      }
     },
     "e4a8f2d73644442e82be640b8d3f1058": {
      "model_module": "@jupyter-widgets/base",
      "model_module_version": "1.2.0",
      "model_name": "LayoutModel",
      "state": {
       "_model_module": "@jupyter-widgets/base",
       "_model_module_version": "1.2.0",
       "_model_name": "LayoutModel",
       "_view_count": null,
       "_view_module": "@jupyter-widgets/base",
       "_view_module_version": "1.2.0",
       "_view_name": "LayoutView",
       "align_content": null,
       "align_items": null,
       "align_self": null,
       "border": null,
       "bottom": null,
       "display": null,
       "flex": null,
       "flex_flow": null,
       "grid_area": null,
       "grid_auto_columns": null,
       "grid_auto_flow": null,
       "grid_auto_rows": null,
       "grid_column": null,
       "grid_gap": null,
       "grid_row": null,
       "grid_template_areas": null,
       "grid_template_columns": null,
       "grid_template_rows": null,
       "height": null,
       "justify_content": null,
       "justify_items": null,
       "left": null,
       "margin": null,
       "max_height": null,
       "max_width": null,
       "min_height": null,
       "min_width": null,
       "object_fit": null,
       "object_position": null,
       "order": null,
       "overflow": null,
       "overflow_x": null,
       "overflow_y": null,
       "padding": null,
       "right": null,
       "top": null,
       "visibility": null,
       "width": null
      }
     },
     "e9330a8ee3e34bb8a511cb67f11e7d95": {
      "model_module": "@jupyter-widgets/base",
      "model_module_version": "1.2.0",
      "model_name": "LayoutModel",
      "state": {
       "_model_module": "@jupyter-widgets/base",
       "_model_module_version": "1.2.0",
       "_model_name": "LayoutModel",
       "_view_count": null,
       "_view_module": "@jupyter-widgets/base",
       "_view_module_version": "1.2.0",
       "_view_name": "LayoutView",
       "align_content": null,
       "align_items": null,
       "align_self": null,
       "border": null,
       "bottom": null,
       "display": null,
       "flex": null,
       "flex_flow": null,
       "grid_area": null,
       "grid_auto_columns": null,
       "grid_auto_flow": null,
       "grid_auto_rows": null,
       "grid_column": null,
       "grid_gap": null,
       "grid_row": null,
       "grid_template_areas": null,
       "grid_template_columns": null,
       "grid_template_rows": null,
       "height": null,
       "justify_content": null,
       "justify_items": null,
       "left": null,
       "margin": null,
       "max_height": null,
       "max_width": null,
       "min_height": null,
       "min_width": null,
       "object_fit": null,
       "object_position": null,
       "order": null,
       "overflow": null,
       "overflow_x": null,
       "overflow_y": null,
       "padding": null,
       "right": null,
       "top": null,
       "visibility": null,
       "width": null
      }
     },
     "edd5a08db4844400bd5da5092c560f9f": {
      "model_module": "@jupyter-widgets/base",
      "model_module_version": "1.2.0",
      "model_name": "LayoutModel",
      "state": {
       "_model_module": "@jupyter-widgets/base",
       "_model_module_version": "1.2.0",
       "_model_name": "LayoutModel",
       "_view_count": null,
       "_view_module": "@jupyter-widgets/base",
       "_view_module_version": "1.2.0",
       "_view_name": "LayoutView",
       "align_content": null,
       "align_items": null,
       "align_self": null,
       "border": null,
       "bottom": null,
       "display": null,
       "flex": null,
       "flex_flow": null,
       "grid_area": null,
       "grid_auto_columns": null,
       "grid_auto_flow": null,
       "grid_auto_rows": null,
       "grid_column": null,
       "grid_gap": null,
       "grid_row": null,
       "grid_template_areas": null,
       "grid_template_columns": null,
       "grid_template_rows": null,
       "height": null,
       "justify_content": null,
       "justify_items": null,
       "left": null,
       "margin": null,
       "max_height": null,
       "max_width": null,
       "min_height": null,
       "min_width": null,
       "object_fit": null,
       "object_position": null,
       "order": null,
       "overflow": null,
       "overflow_x": null,
       "overflow_y": null,
       "padding": null,
       "right": null,
       "top": null,
       "visibility": null,
       "width": null
      }
     },
     "f1288b4ba2b347a8b240030ec8f51715": {
      "model_module": "@jupyter-widgets/controls",
      "model_module_version": "1.5.0",
      "model_name": "HBoxModel",
      "state": {
       "_dom_classes": [],
       "_model_module": "@jupyter-widgets/controls",
       "_model_module_version": "1.5.0",
       "_model_name": "HBoxModel",
       "_view_count": null,
       "_view_module": "@jupyter-widgets/controls",
       "_view_module_version": "1.5.0",
       "_view_name": "HBoxView",
       "box_style": "",
       "children": [
        "IPY_MODEL_6986c0a635bd4cf789ed4e32e0df1c90",
        "IPY_MODEL_7545396fa6064aee814a2586a1f6e1d6",
        "IPY_MODEL_ccd9b06441a64aee9d6d09ce453345b4"
       ],
       "layout": "IPY_MODEL_1d64940c74ad4d668717df1f7b6b96d3"
      }
     },
     "f5fc28d565334567b22daa940e6592dc": {
      "model_module": "@jupyter-widgets/base",
      "model_module_version": "1.2.0",
      "model_name": "LayoutModel",
      "state": {
       "_model_module": "@jupyter-widgets/base",
       "_model_module_version": "1.2.0",
       "_model_name": "LayoutModel",
       "_view_count": null,
       "_view_module": "@jupyter-widgets/base",
       "_view_module_version": "1.2.0",
       "_view_name": "LayoutView",
       "align_content": null,
       "align_items": null,
       "align_self": null,
       "border": null,
       "bottom": null,
       "display": null,
       "flex": null,
       "flex_flow": null,
       "grid_area": null,
       "grid_auto_columns": null,
       "grid_auto_flow": null,
       "grid_auto_rows": null,
       "grid_column": null,
       "grid_gap": null,
       "grid_row": null,
       "grid_template_areas": null,
       "grid_template_columns": null,
       "grid_template_rows": null,
       "height": null,
       "justify_content": null,
       "justify_items": null,
       "left": null,
       "margin": null,
       "max_height": null,
       "max_width": null,
       "min_height": null,
       "min_width": null,
       "object_fit": null,
       "object_position": null,
       "order": null,
       "overflow": null,
       "overflow_x": null,
       "overflow_y": null,
       "padding": null,
       "right": null,
       "top": null,
       "visibility": null,
       "width": null
      }
     },
     "f882401efb514898937bc4976c7cc0ae": {
      "model_module": "@jupyter-widgets/controls",
      "model_module_version": "1.5.0",
      "model_name": "ProgressStyleModel",
      "state": {
       "_model_module": "@jupyter-widgets/controls",
       "_model_module_version": "1.5.0",
       "_model_name": "ProgressStyleModel",
       "_view_count": null,
       "_view_module": "@jupyter-widgets/base",
       "_view_module_version": "1.2.0",
       "_view_name": "StyleView",
       "bar_color": null,
       "description_width": ""
      }
     },
     "faa65dcba0ff4ee29b1f96c3a487a19c": {
      "model_module": "@jupyter-widgets/controls",
      "model_module_version": "1.5.0",
      "model_name": "HBoxModel",
      "state": {
       "_dom_classes": [],
       "_model_module": "@jupyter-widgets/controls",
       "_model_module_version": "1.5.0",
       "_model_name": "HBoxModel",
       "_view_count": null,
       "_view_module": "@jupyter-widgets/controls",
       "_view_module_version": "1.5.0",
       "_view_name": "HBoxView",
       "box_style": "",
       "children": [
        "IPY_MODEL_a78c1982eb464538a94ce1bbe2c4a46b",
        "IPY_MODEL_8cb311d6604843598a84230087c3a12e",
        "IPY_MODEL_1e68e779a95d42bfb09d6d91dc55830e"
       ],
       "layout": "IPY_MODEL_288afde31cf64dbd9e1e52c4614908ac"
      }
     },
     "fdd2029be33f47f697b0e6781660713f": {
      "model_module": "@jupyter-widgets/controls",
      "model_module_version": "1.5.0",
      "model_name": "DescriptionStyleModel",
      "state": {
       "_model_module": "@jupyter-widgets/controls",
       "_model_module_version": "1.5.0",
       "_model_name": "DescriptionStyleModel",
       "_view_count": null,
       "_view_module": "@jupyter-widgets/base",
       "_view_module_version": "1.2.0",
       "_view_name": "StyleView",
       "description_width": ""
      }
     }
    },
    "version_major": 2,
    "version_minor": 0
   }
  }
 },
 "nbformat": 4,
 "nbformat_minor": 5
}
